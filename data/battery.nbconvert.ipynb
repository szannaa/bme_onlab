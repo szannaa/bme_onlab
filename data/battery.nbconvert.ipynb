{
 "cells": [
  {
   "cell_type": "markdown",
   "metadata": {},
   "source": [
    "# Imports"
   ]
  },
  {
   "cell_type": "code",
   "execution_count": 1,
   "metadata": {
    "execution": {
     "iopub.execute_input": "2024-04-17T12:42:13.377254Z",
     "iopub.status.busy": "2024-04-17T12:42:13.376232Z",
     "iopub.status.idle": "2024-04-17T12:42:13.983529Z",
     "shell.execute_reply": "2024-04-17T12:42:13.982520Z"
    }
   },
   "outputs": [],
   "source": [
    "import pandas as pd"
   ]
  },
  {
   "cell_type": "code",
   "execution_count": 2,
   "metadata": {
    "execution": {
     "iopub.execute_input": "2024-04-17T12:42:13.987082Z",
     "iopub.status.busy": "2024-04-17T12:42:13.987082Z",
     "iopub.status.idle": "2024-04-17T12:42:13.996259Z",
     "shell.execute_reply": "2024-04-17T12:42:13.996259Z"
    }
   },
   "outputs": [],
   "source": [
    "import xml.etree.ElementTree as et"
   ]
  },
  {
   "cell_type": "code",
   "execution_count": 3,
   "metadata": {
    "execution": {
     "iopub.execute_input": "2024-04-17T12:42:14.001353Z",
     "iopub.status.busy": "2024-04-17T12:42:14.000355Z",
     "iopub.status.idle": "2024-04-17T12:42:14.005298Z",
     "shell.execute_reply": "2024-04-17T12:42:14.005298Z"
    }
   },
   "outputs": [],
   "source": [
    "import os"
   ]
  },
  {
   "cell_type": "code",
   "execution_count": 4,
   "metadata": {
    "execution": {
     "iopub.execute_input": "2024-04-17T12:42:14.008331Z",
     "iopub.status.busy": "2024-04-17T12:42:14.008331Z",
     "iopub.status.idle": "2024-04-17T12:42:14.509157Z",
     "shell.execute_reply": "2024-04-17T12:42:14.508149Z"
    }
   },
   "outputs": [],
   "source": [
    "import matplotlib.pyplot as plt"
   ]
  },
  {
   "cell_type": "markdown",
   "metadata": {},
   "source": [
    "# Functions"
   ]
  },
  {
   "cell_type": "code",
   "execution_count": 5,
   "metadata": {
    "execution": {
     "iopub.execute_input": "2024-04-17T12:42:14.513178Z",
     "iopub.status.busy": "2024-04-17T12:42:14.513178Z",
     "iopub.status.idle": "2024-04-17T12:42:14.519638Z",
     "shell.execute_reply": "2024-04-17T12:42:14.518618Z"
    }
   },
   "outputs": [],
   "source": [
    "def get_last_folder(path):\n",
    "    # Normalize the path to handle different separators and remove trailing separator\n",
    "    normalized_path = os.path.normpath(path)\n",
    "    # Split the path into components\n",
    "    folders = normalized_path.split(os.sep)\n",
    "    # Get the last folder\n",
    "    last_folder = folders[-1]\n",
    "    return last_folder"
   ]
  },
  {
   "cell_type": "code",
   "execution_count": 6,
   "metadata": {
    "execution": {
     "iopub.execute_input": "2024-04-17T12:42:14.524625Z",
     "iopub.status.busy": "2024-04-17T12:42:14.524625Z",
     "iopub.status.idle": "2024-04-17T12:42:14.530583Z",
     "shell.execute_reply": "2024-04-17T12:42:14.529581Z"
    }
   },
   "outputs": [],
   "source": [
    "def transform_xml(xml_doc):\n",
    "    attr = xml_doc.attrib\n",
    "    for xml in xml_doc.iter('vehicle'):\n",
    "        dict = attr.copy()\n",
    "        dict.update(xml.attrib)\n",
    "        \n",
    "        yield dict\n"
   ]
  },
  {
   "cell_type": "code",
   "execution_count": 7,
   "metadata": {
    "execution": {
     "iopub.execute_input": "2024-04-17T12:42:14.536086Z",
     "iopub.status.busy": "2024-04-17T12:42:14.536086Z",
     "iopub.status.idle": "2024-04-17T12:42:14.543967Z",
     "shell.execute_reply": "2024-04-17T12:42:14.542952Z"
    }
   },
   "outputs": [],
   "source": [
    "def calc_elevation_up(group):\n",
    "    z_diff = pd.to_numeric(group['z']).diff()\n",
    "\n",
    "    # Filter out negative differences (upward movement)\n",
    "    up = z_diff.apply(lambda x: x if x > 0 else 0)\n",
    "\n",
    "    # Sum the positive differences to get the total upward movement\n",
    "    total_up = up.sum()\n",
    "    return total_up"
   ]
  },
  {
   "cell_type": "code",
   "execution_count": 8,
   "metadata": {
    "execution": {
     "iopub.execute_input": "2024-04-17T12:42:14.550532Z",
     "iopub.status.busy": "2024-04-17T12:42:14.549535Z",
     "iopub.status.idle": "2024-04-17T12:42:14.558672Z",
     "shell.execute_reply": "2024-04-17T12:42:14.557664Z"
    }
   },
   "outputs": [],
   "source": [
    "def calc_elevation_down(group):\n",
    "    z_diff = pd.to_numeric(group['z']).diff()\n",
    "\n",
    "    # Filter out negative differences (upward movement)\n",
    "    down = z_diff.apply(lambda x: x if x < 0 else 0)\n",
    "\n",
    "    # Sum the positive differences to get the total upward movement\n",
    "    total_down = down.sum()\n",
    "    return total_down"
   ]
  },
  {
   "cell_type": "code",
   "execution_count": 9,
   "metadata": {
    "execution": {
     "iopub.execute_input": "2024-04-17T12:42:14.563659Z",
     "iopub.status.busy": "2024-04-17T12:42:14.562700Z",
     "iopub.status.idle": "2024-04-17T12:42:14.571391Z",
     "shell.execute_reply": "2024-04-17T12:42:14.570383Z"
    }
   },
   "outputs": [],
   "source": [
    "def transform_xml_tripinfo(xml_doc):\n",
    "    attr = xml_doc.attrib\n",
    "    for xml in xml_doc.iter('tripinfo'):\n",
    "        dict = attr.copy()\n",
    "        dict.update(xml.attrib)\n",
    "        \n",
    "        yield dict"
   ]
  },
  {
   "cell_type": "code",
   "execution_count": 10,
   "metadata": {
    "execution": {
     "iopub.execute_input": "2024-04-17T12:42:14.577899Z",
     "iopub.status.busy": "2024-04-17T12:42:14.576894Z",
     "iopub.status.idle": "2024-04-17T12:42:14.583956Z",
     "shell.execute_reply": "2024-04-17T12:42:14.582937Z"
    }
   },
   "outputs": [],
   "source": [
    "def transform_xml_stops(xml_doc):\n",
    "    for route in xml_doc.iter('route'):\n",
    "        route_dict = route.attrib.copy()\n",
    "        stops = []\n",
    "        \n",
    "        for stop in route.findall('stop'):\n",
    "            stop_dict = stop.attrib.copy()\n",
    "            stops.append(stop_dict)\n",
    "        \n",
    "        route_dict['stops'] = stops\n",
    "        \n",
    "        yield route_dict"
   ]
  },
  {
   "cell_type": "code",
   "execution_count": 11,
   "metadata": {
    "execution": {
     "iopub.execute_input": "2024-04-17T12:42:14.589503Z",
     "iopub.status.busy": "2024-04-17T12:42:14.589503Z",
     "iopub.status.idle": "2024-04-17T12:42:14.596315Z",
     "shell.execute_reply": "2024-04-17T12:42:14.595310Z"
    }
   },
   "outputs": [],
   "source": [
    "def get_group_by_id(list_of_dfs, desired_id):\n",
    "    for df in list_of_dfs:\n",
    "        if desired_id in df['id'].values:\n",
    "            return df[df['id'] == desired_id]\n",
    "    raise ValueError(f\"ID '{desired_id}' not found in any dataframe.\")"
   ]
  },
  {
   "cell_type": "markdown",
   "metadata": {},
   "source": [
    "# XML to df"
   ]
  },
  {
   "cell_type": "code",
   "execution_count": 12,
   "metadata": {
    "execution": {
     "iopub.execute_input": "2024-04-17T12:42:14.601382Z",
     "iopub.status.busy": "2024-04-17T12:42:14.601382Z",
     "iopub.status.idle": "2024-04-17T12:42:14.606906Z",
     "shell.execute_reply": "2024-04-17T12:42:14.606906Z"
    }
   },
   "outputs": [],
   "source": [
    "base_folder = \"C:\\\\Users\\\\Admin\\\\Sumo\\\\nap_gellert_b\""
   ]
  },
  {
   "cell_type": "code",
   "execution_count": 13,
   "metadata": {
    "execution": {
     "iopub.execute_input": "2024-04-17T12:42:14.611326Z",
     "iopub.status.busy": "2024-04-17T12:42:14.611326Z",
     "iopub.status.idle": "2024-04-17T12:42:14.973967Z",
     "shell.execute_reply": "2024-04-17T12:42:14.972959Z"
    }
   },
   "outputs": [
    {
     "data": {
      "text/html": [
       "<div>\n",
       "<style scoped>\n",
       "    .dataframe tbody tr th:only-of-type {\n",
       "        vertical-align: middle;\n",
       "    }\n",
       "\n",
       "    .dataframe tbody tr th {\n",
       "        vertical-align: top;\n",
       "    }\n",
       "\n",
       "    .dataframe thead th {\n",
       "        text-align: right;\n",
       "    }\n",
       "</style>\n",
       "<table border=\"1\" class=\"dataframe\">\n",
       "  <thead>\n",
       "    <tr style=\"text-align: right;\">\n",
       "      <th></th>\n",
       "      <th>id</th>\n",
       "      <th>eclass</th>\n",
       "      <th>CO2</th>\n",
       "      <th>CO</th>\n",
       "      <th>HC</th>\n",
       "      <th>NOx</th>\n",
       "      <th>PMx</th>\n",
       "      <th>fuel</th>\n",
       "      <th>electricity</th>\n",
       "      <th>noise</th>\n",
       "      <th>route</th>\n",
       "      <th>type</th>\n",
       "      <th>waiting</th>\n",
       "      <th>lane</th>\n",
       "      <th>pos</th>\n",
       "      <th>speed</th>\n",
       "      <th>angle</th>\n",
       "      <th>x</th>\n",
       "      <th>y</th>\n",
       "      <th>z</th>\n",
       "    </tr>\n",
       "  </thead>\n",
       "  <tbody>\n",
       "    <tr>\n",
       "      <th>0</th>\n",
       "      <td>C6305319.0</td>\n",
       "      <td>HBEFA3/Bus</td>\n",
       "      <td>5286.11</td>\n",
       "      <td>20.17</td>\n",
       "      <td>4.85</td>\n",
       "      <td>60.75</td>\n",
       "      <td>2.01</td>\n",
       "      <td>1671.11</td>\n",
       "      <td>0.00</td>\n",
       "      <td>67.11</td>\n",
       "      <td>C6305319</td>\n",
       "      <td>bus</td>\n",
       "      <td>0.00</td>\n",
       "      <td>34572881#1_0</td>\n",
       "      <td>12.10</td>\n",
       "      <td>0.00</td>\n",
       "      <td>281.98</td>\n",
       "      <td>4016.83</td>\n",
       "      <td>1694.47</td>\n",
       "      <td>113.74</td>\n",
       "    </tr>\n",
       "    <tr>\n",
       "      <th>1</th>\n",
       "      <td>C6305319.0</td>\n",
       "      <td>HBEFA3/Bus</td>\n",
       "      <td>7546.30</td>\n",
       "      <td>22.31</td>\n",
       "      <td>5.14</td>\n",
       "      <td>75.92</td>\n",
       "      <td>2.25</td>\n",
       "      <td>2386.51</td>\n",
       "      <td>0.00</td>\n",
       "      <td>72.94</td>\n",
       "      <td>C6305319</td>\n",
       "      <td>bus</td>\n",
       "      <td>0.00</td>\n",
       "      <td>34572881#1_0</td>\n",
       "      <td>13.07</td>\n",
       "      <td>0.97</td>\n",
       "      <td>281.98</td>\n",
       "      <td>4015.88</td>\n",
       "      <td>1694.67</td>\n",
       "      <td>113.80</td>\n",
       "    </tr>\n",
       "    <tr>\n",
       "      <th>2</th>\n",
       "      <td>C6305319.0</td>\n",
       "      <td>HBEFA3/Bus</td>\n",
       "      <td>8846.44</td>\n",
       "      <td>23.42</td>\n",
       "      <td>5.31</td>\n",
       "      <td>84.41</td>\n",
       "      <td>2.38</td>\n",
       "      <td>2798.07</td>\n",
       "      <td>0.00</td>\n",
       "      <td>72.31</td>\n",
       "      <td>C6305319</td>\n",
       "      <td>bus</td>\n",
       "      <td>0.00</td>\n",
       "      <td>34572881#1_0</td>\n",
       "      <td>14.84</td>\n",
       "      <td>1.77</td>\n",
       "      <td>281.98</td>\n",
       "      <td>4014.15</td>\n",
       "      <td>1695.04</td>\n",
       "      <td>113.91</td>\n",
       "    </tr>\n",
       "    <tr>\n",
       "      <th>3</th>\n",
       "      <td>C6305319.0</td>\n",
       "      <td>HBEFA3/Bus</td>\n",
       "      <td>11856.72</td>\n",
       "      <td>26.41</td>\n",
       "      <td>5.70</td>\n",
       "      <td>104.90</td>\n",
       "      <td>2.72</td>\n",
       "      <td>3750.83</td>\n",
       "      <td>0.00</td>\n",
       "      <td>73.88</td>\n",
       "      <td>C6305319</td>\n",
       "      <td>bus</td>\n",
       "      <td>0.00</td>\n",
       "      <td>34572881#1_0</td>\n",
       "      <td>17.61</td>\n",
       "      <td>2.77</td>\n",
       "      <td>281.98</td>\n",
       "      <td>4011.44</td>\n",
       "      <td>1695.61</td>\n",
       "      <td>114.09</td>\n",
       "    </tr>\n",
       "    <tr>\n",
       "      <th>4</th>\n",
       "      <td>C6305319.0</td>\n",
       "      <td>HBEFA3/Bus</td>\n",
       "      <td>13881.32</td>\n",
       "      <td>28.28</td>\n",
       "      <td>5.96</td>\n",
       "      <td>118.40</td>\n",
       "      <td>2.93</td>\n",
       "      <td>4391.67</td>\n",
       "      <td>0.00</td>\n",
       "      <td>74.13</td>\n",
       "      <td>C6305319</td>\n",
       "      <td>bus</td>\n",
       "      <td>0.00</td>\n",
       "      <td>34572881#1_0</td>\n",
       "      <td>21.34</td>\n",
       "      <td>3.73</td>\n",
       "      <td>281.98</td>\n",
       "      <td>4007.80</td>\n",
       "      <td>1696.38</td>\n",
       "      <td>114.32</td>\n",
       "    </tr>\n",
       "    <tr>\n",
       "      <th>...</th>\n",
       "      <td>...</td>\n",
       "      <td>...</td>\n",
       "      <td>...</td>\n",
       "      <td>...</td>\n",
       "      <td>...</td>\n",
       "      <td>...</td>\n",
       "      <td>...</td>\n",
       "      <td>...</td>\n",
       "      <td>...</td>\n",
       "      <td>...</td>\n",
       "      <td>...</td>\n",
       "      <td>...</td>\n",
       "      <td>...</td>\n",
       "      <td>...</td>\n",
       "      <td>...</td>\n",
       "      <td>...</td>\n",
       "      <td>...</td>\n",
       "      <td>...</td>\n",
       "      <td>...</td>\n",
       "      <td>...</td>\n",
       "    </tr>\n",
       "    <tr>\n",
       "      <th>2436</th>\n",
       "      <td>C69789682.0</td>\n",
       "      <td>HBEFA3/Bus</td>\n",
       "      <td>22987.83</td>\n",
       "      <td>37.34</td>\n",
       "      <td>7.13</td>\n",
       "      <td>180.41</td>\n",
       "      <td>3.94</td>\n",
       "      <td>7273.91</td>\n",
       "      <td>0.00</td>\n",
       "      <td>76.67</td>\n",
       "      <td>C6978911</td>\n",
       "      <td>bus</td>\n",
       "      <td>0.00</td>\n",
       "      <td>53864729#4_0</td>\n",
       "      <td>405.77</td>\n",
       "      <td>6.72</td>\n",
       "      <td>357.79</td>\n",
       "      <td>2386.49</td>\n",
       "      <td>3593.90</td>\n",
       "      <td>147.52</td>\n",
       "    </tr>\n",
       "    <tr>\n",
       "      <th>2437</th>\n",
       "      <td>C69789682.0</td>\n",
       "      <td>HBEFA3/Bus</td>\n",
       "      <td>23550.87</td>\n",
       "      <td>37.50</td>\n",
       "      <td>7.20</td>\n",
       "      <td>183.46</td>\n",
       "      <td>3.98</td>\n",
       "      <td>7452.25</td>\n",
       "      <td>0.00</td>\n",
       "      <td>76.42</td>\n",
       "      <td>C6978911</td>\n",
       "      <td>bus</td>\n",
       "      <td>0.00</td>\n",
       "      <td>53864729#4_0</td>\n",
       "      <td>413.49</td>\n",
       "      <td>7.72</td>\n",
       "      <td>357.79</td>\n",
       "      <td>2386.19</td>\n",
       "      <td>3601.61</td>\n",
       "      <td>147.36</td>\n",
       "    </tr>\n",
       "    <tr>\n",
       "      <th>2438</th>\n",
       "      <td>C69789682.0</td>\n",
       "      <td>HBEFA3/Bus</td>\n",
       "      <td>21537.34</td>\n",
       "      <td>34.81</td>\n",
       "      <td>6.94</td>\n",
       "      <td>168.37</td>\n",
       "      <td>3.70</td>\n",
       "      <td>6815.20</td>\n",
       "      <td>0.00</td>\n",
       "      <td>75.56</td>\n",
       "      <td>C6978911</td>\n",
       "      <td>bus</td>\n",
       "      <td>0.00</td>\n",
       "      <td>53864729#4_0</td>\n",
       "      <td>421.96</td>\n",
       "      <td>8.47</td>\n",
       "      <td>357.79</td>\n",
       "      <td>2385.87</td>\n",
       "      <td>3610.06</td>\n",
       "      <td>147.19</td>\n",
       "    </tr>\n",
       "    <tr>\n",
       "      <th>2439</th>\n",
       "      <td>C69789682.0</td>\n",
       "      <td>HBEFA3/Bus</td>\n",
       "      <td>25566.93</td>\n",
       "      <td>39.03</td>\n",
       "      <td>7.46</td>\n",
       "      <td>196.24</td>\n",
       "      <td>4.16</td>\n",
       "      <td>8090.50</td>\n",
       "      <td>0.00</td>\n",
       "      <td>76.79</td>\n",
       "      <td>C6978911</td>\n",
       "      <td>bus</td>\n",
       "      <td>0.00</td>\n",
       "      <td>53864729#4_0</td>\n",
       "      <td>431.31</td>\n",
       "      <td>9.35</td>\n",
       "      <td>357.80</td>\n",
       "      <td>2385.51</td>\n",
       "      <td>3619.40</td>\n",
       "      <td>146.88</td>\n",
       "    </tr>\n",
       "    <tr>\n",
       "      <th>2440</th>\n",
       "      <td>C69789682.0</td>\n",
       "      <td>HBEFA3/Bus</td>\n",
       "      <td>28026.55</td>\n",
       "      <td>41.43</td>\n",
       "      <td>7.78</td>\n",
       "      <td>212.89</td>\n",
       "      <td>4.43</td>\n",
       "      <td>8868.99</td>\n",
       "      <td>0.00</td>\n",
       "      <td>77.46</td>\n",
       "      <td>C6978911</td>\n",
       "      <td>bus</td>\n",
       "      <td>0.00</td>\n",
       "      <td>53864729#4_0</td>\n",
       "      <td>441.57</td>\n",
       "      <td>10.26</td>\n",
       "      <td>357.81</td>\n",
       "      <td>2385.12</td>\n",
       "      <td>3629.65</td>\n",
       "      <td>146.68</td>\n",
       "    </tr>\n",
       "  </tbody>\n",
       "</table>\n",
       "<p>2441 rows × 20 columns</p>\n",
       "</div>"
      ],
      "text/plain": [
       "               id      eclass       CO2     CO    HC     NOx   PMx     fuel  \\\n",
       "0      C6305319.0  HBEFA3/Bus   5286.11  20.17  4.85   60.75  2.01  1671.11   \n",
       "1      C6305319.0  HBEFA3/Bus   7546.30  22.31  5.14   75.92  2.25  2386.51   \n",
       "2      C6305319.0  HBEFA3/Bus   8846.44  23.42  5.31   84.41  2.38  2798.07   \n",
       "3      C6305319.0  HBEFA3/Bus  11856.72  26.41  5.70  104.90  2.72  3750.83   \n",
       "4      C6305319.0  HBEFA3/Bus  13881.32  28.28  5.96  118.40  2.93  4391.67   \n",
       "...           ...         ...       ...    ...   ...     ...   ...      ...   \n",
       "2436  C69789682.0  HBEFA3/Bus  22987.83  37.34  7.13  180.41  3.94  7273.91   \n",
       "2437  C69789682.0  HBEFA3/Bus  23550.87  37.50  7.20  183.46  3.98  7452.25   \n",
       "2438  C69789682.0  HBEFA3/Bus  21537.34  34.81  6.94  168.37  3.70  6815.20   \n",
       "2439  C69789682.0  HBEFA3/Bus  25566.93  39.03  7.46  196.24  4.16  8090.50   \n",
       "2440  C69789682.0  HBEFA3/Bus  28026.55  41.43  7.78  212.89  4.43  8868.99   \n",
       "\n",
       "     electricity  noise     route type waiting          lane     pos  speed  \\\n",
       "0           0.00  67.11  C6305319  bus    0.00  34572881#1_0   12.10   0.00   \n",
       "1           0.00  72.94  C6305319  bus    0.00  34572881#1_0   13.07   0.97   \n",
       "2           0.00  72.31  C6305319  bus    0.00  34572881#1_0   14.84   1.77   \n",
       "3           0.00  73.88  C6305319  bus    0.00  34572881#1_0   17.61   2.77   \n",
       "4           0.00  74.13  C6305319  bus    0.00  34572881#1_0   21.34   3.73   \n",
       "...          ...    ...       ...  ...     ...           ...     ...    ...   \n",
       "2436        0.00  76.67  C6978911  bus    0.00  53864729#4_0  405.77   6.72   \n",
       "2437        0.00  76.42  C6978911  bus    0.00  53864729#4_0  413.49   7.72   \n",
       "2438        0.00  75.56  C6978911  bus    0.00  53864729#4_0  421.96   8.47   \n",
       "2439        0.00  76.79  C6978911  bus    0.00  53864729#4_0  431.31   9.35   \n",
       "2440        0.00  77.46  C6978911  bus    0.00  53864729#4_0  441.57  10.26   \n",
       "\n",
       "       angle        x        y       z  \n",
       "0     281.98  4016.83  1694.47  113.74  \n",
       "1     281.98  4015.88  1694.67  113.80  \n",
       "2     281.98  4014.15  1695.04  113.91  \n",
       "3     281.98  4011.44  1695.61  114.09  \n",
       "4     281.98  4007.80  1696.38  114.32  \n",
       "...      ...      ...      ...     ...  \n",
       "2436  357.79  2386.49  3593.90  147.52  \n",
       "2437  357.79  2386.19  3601.61  147.36  \n",
       "2438  357.79  2385.87  3610.06  147.19  \n",
       "2439  357.80  2385.51  3619.40  146.88  \n",
       "2440  357.81  2385.12  3629.65  146.68  \n",
       "\n",
       "[2441 rows x 20 columns]"
      ]
     },
     "execution_count": 13,
     "metadata": {},
     "output_type": "execute_result"
    }
   ],
   "source": [
    "file_path = os.path.join(base_folder, \"emission.out.xml\")\n",
    "emission_output = et.parse(file_path)\n",
    "\n",
    "transform = transform_xml(emission_output.getroot())\n",
    "emission_output_list = list(transform)\n",
    "\n",
    "emission_output_df = pd.DataFrame(emission_output_list)\n",
    "emission_output_df = emission_output_df.drop(emission_output_df.columns[0], axis=1)\n",
    "emission_output_df"
   ]
  },
  {
   "cell_type": "code",
   "execution_count": 14,
   "metadata": {
    "execution": {
     "iopub.execute_input": "2024-04-17T12:42:15.030705Z",
     "iopub.status.busy": "2024-04-17T12:42:15.030705Z",
     "iopub.status.idle": "2024-04-17T12:42:15.452703Z",
     "shell.execute_reply": "2024-04-17T12:42:15.451685Z"
    }
   },
   "outputs": [
    {
     "data": {
      "text/html": [
       "<div>\n",
       "<style scoped>\n",
       "    .dataframe tbody tr th:only-of-type {\n",
       "        vertical-align: middle;\n",
       "    }\n",
       "\n",
       "    .dataframe tbody tr th {\n",
       "        vertical-align: top;\n",
       "    }\n",
       "\n",
       "    .dataframe thead th {\n",
       "        text-align: right;\n",
       "    }\n",
       "</style>\n",
       "<table border=\"1\" class=\"dataframe\">\n",
       "  <thead>\n",
       "    <tr style=\"text-align: right;\">\n",
       "      <th></th>\n",
       "      <th>id</th>\n",
       "      <th>energyConsumed</th>\n",
       "      <th>totalEnergyConsumed</th>\n",
       "      <th>totalEnergyRegenerated</th>\n",
       "      <th>actualBatteryCapacity</th>\n",
       "      <th>maximumBatteryCapacity</th>\n",
       "      <th>chargingStationId</th>\n",
       "      <th>energyCharged</th>\n",
       "      <th>energyChargedInTransit</th>\n",
       "      <th>energyChargedStopped</th>\n",
       "      <th>speed</th>\n",
       "      <th>acceleration</th>\n",
       "      <th>x</th>\n",
       "      <th>y</th>\n",
       "      <th>lane</th>\n",
       "      <th>posOnLane</th>\n",
       "      <th>timeStopped</th>\n",
       "    </tr>\n",
       "  </thead>\n",
       "  <tbody>\n",
       "    <tr>\n",
       "      <th>0</th>\n",
       "      <td>C6305319.0</td>\n",
       "      <td>0.0000</td>\n",
       "      <td>0.0000</td>\n",
       "      <td>0.0000</td>\n",
       "      <td>17500.0000</td>\n",
       "      <td>35000.0000</td>\n",
       "      <td>NULL</td>\n",
       "      <td>0.0000</td>\n",
       "      <td>0.0000</td>\n",
       "      <td>0.0000</td>\n",
       "      <td>0.0000</td>\n",
       "      <td>0.0000</td>\n",
       "      <td>4016.8263</td>\n",
       "      <td>1694.4668</td>\n",
       "      <td>34572881#1_0</td>\n",
       "      <td>12.1000</td>\n",
       "      <td>0</td>\n",
       "    </tr>\n",
       "    <tr>\n",
       "      <th>1</th>\n",
       "      <td>C6305319.0</td>\n",
       "      <td>0.6337</td>\n",
       "      <td>0.6337</td>\n",
       "      <td>0.0000</td>\n",
       "      <td>17499.3663</td>\n",
       "      <td>35000.0000</td>\n",
       "      <td>NULL</td>\n",
       "      <td>0.0000</td>\n",
       "      <td>0.0000</td>\n",
       "      <td>0.0000</td>\n",
       "      <td>0.9723</td>\n",
       "      <td>0.9723</td>\n",
       "      <td>4015.8770</td>\n",
       "      <td>1694.6683</td>\n",
       "      <td>34572881#1_0</td>\n",
       "      <td>13.0723</td>\n",
       "      <td>0</td>\n",
       "    </tr>\n",
       "    <tr>\n",
       "      <th>2</th>\n",
       "      <td>C6305319.0</td>\n",
       "      <td>1.2525</td>\n",
       "      <td>1.8862</td>\n",
       "      <td>0.0000</td>\n",
       "      <td>17498.1138</td>\n",
       "      <td>35000.0000</td>\n",
       "      <td>NULL</td>\n",
       "      <td>0.0000</td>\n",
       "      <td>0.0000</td>\n",
       "      <td>0.0000</td>\n",
       "      <td>1.7703</td>\n",
       "      <td>0.7980</td>\n",
       "      <td>4014.1485</td>\n",
       "      <td>1695.0350</td>\n",
       "      <td>34572881#1_0</td>\n",
       "      <td>14.8426</td>\n",
       "      <td>0</td>\n",
       "    </tr>\n",
       "    <tr>\n",
       "      <th>3</th>\n",
       "      <td>C6305319.0</td>\n",
       "      <td>2.2335</td>\n",
       "      <td>4.1197</td>\n",
       "      <td>0.0000</td>\n",
       "      <td>17495.8803</td>\n",
       "      <td>35000.0000</td>\n",
       "      <td>NULL</td>\n",
       "      <td>0.0000</td>\n",
       "      <td>0.0000</td>\n",
       "      <td>0.0000</td>\n",
       "      <td>2.7693</td>\n",
       "      <td>0.9990</td>\n",
       "      <td>4011.4448</td>\n",
       "      <td>1695.6088</td>\n",
       "      <td>34572881#1_0</td>\n",
       "      <td>17.6119</td>\n",
       "      <td>0</td>\n",
       "    </tr>\n",
       "    <tr>\n",
       "      <th>4</th>\n",
       "      <td>C6305319.0</td>\n",
       "      <td>3.0379</td>\n",
       "      <td>7.1576</td>\n",
       "      <td>0.0000</td>\n",
       "      <td>17492.8424</td>\n",
       "      <td>35000.0000</td>\n",
       "      <td>NULL</td>\n",
       "      <td>0.0000</td>\n",
       "      <td>0.0000</td>\n",
       "      <td>0.0000</td>\n",
       "      <td>3.7302</td>\n",
       "      <td>0.9609</td>\n",
       "      <td>4007.8028</td>\n",
       "      <td>1696.3816</td>\n",
       "      <td>34572881#1_0</td>\n",
       "      <td>21.3421</td>\n",
       "      <td>0</td>\n",
       "    </tr>\n",
       "    <tr>\n",
       "      <th>...</th>\n",
       "      <td>...</td>\n",
       "      <td>...</td>\n",
       "      <td>...</td>\n",
       "      <td>...</td>\n",
       "      <td>...</td>\n",
       "      <td>...</td>\n",
       "      <td>...</td>\n",
       "      <td>...</td>\n",
       "      <td>...</td>\n",
       "      <td>...</td>\n",
       "      <td>...</td>\n",
       "      <td>...</td>\n",
       "      <td>...</td>\n",
       "      <td>...</td>\n",
       "      <td>...</td>\n",
       "      <td>...</td>\n",
       "      <td>...</td>\n",
       "    </tr>\n",
       "    <tr>\n",
       "      <th>2436</th>\n",
       "      <td>C69789682.0</td>\n",
       "      <td>3.3596</td>\n",
       "      <td>890.1439</td>\n",
       "      <td>460.9966</td>\n",
       "      <td>17070.8527</td>\n",
       "      <td>35000.0000</td>\n",
       "      <td>NULL</td>\n",
       "      <td>0.0000</td>\n",
       "      <td>0.0000</td>\n",
       "      <td>0.0000</td>\n",
       "      <td>6.7236</td>\n",
       "      <td>1.1436</td>\n",
       "      <td>2386.4906</td>\n",
       "      <td>3593.9043</td>\n",
       "      <td>53864729#4_0</td>\n",
       "      <td>405.7710</td>\n",
       "      <td>0</td>\n",
       "    </tr>\n",
       "    <tr>\n",
       "      <th>2437</th>\n",
       "      <td>C69789682.0</td>\n",
       "      <td>3.4096</td>\n",
       "      <td>893.5535</td>\n",
       "      <td>460.9966</td>\n",
       "      <td>17067.4431</td>\n",
       "      <td>35000.0000</td>\n",
       "      <td>NULL</td>\n",
       "      <td>0.0000</td>\n",
       "      <td>0.0000</td>\n",
       "      <td>0.0000</td>\n",
       "      <td>7.7190</td>\n",
       "      <td>0.9954</td>\n",
       "      <td>2386.1932</td>\n",
       "      <td>3601.6116</td>\n",
       "      <td>53864729#4_0</td>\n",
       "      <td>413.4900</td>\n",
       "      <td>0</td>\n",
       "    </tr>\n",
       "    <tr>\n",
       "      <th>2438</th>\n",
       "      <td>C69789682.0</td>\n",
       "      <td>2.7999</td>\n",
       "      <td>896.3534</td>\n",
       "      <td>460.9966</td>\n",
       "      <td>17064.6432</td>\n",
       "      <td>35000.0000</td>\n",
       "      <td>NULL</td>\n",
       "      <td>0.0000</td>\n",
       "      <td>0.0000</td>\n",
       "      <td>0.0000</td>\n",
       "      <td>8.4661</td>\n",
       "      <td>0.7471</td>\n",
       "      <td>2385.8670</td>\n",
       "      <td>3610.0648</td>\n",
       "      <td>53864729#4_0</td>\n",
       "      <td>421.9561</td>\n",
       "      <td>0</td>\n",
       "    </tr>\n",
       "    <tr>\n",
       "      <th>2439</th>\n",
       "      <td>C69789682.0</td>\n",
       "      <td>3.2976</td>\n",
       "      <td>899.6510</td>\n",
       "      <td>460.9966</td>\n",
       "      <td>17061.3456</td>\n",
       "      <td>35000.0000</td>\n",
       "      <td>NULL</td>\n",
       "      <td>0.0000</td>\n",
       "      <td>0.0000</td>\n",
       "      <td>0.0000</td>\n",
       "      <td>9.3517</td>\n",
       "      <td>0.8856</td>\n",
       "      <td>2385.5085</td>\n",
       "      <td>3619.3991</td>\n",
       "      <td>53864729#4_0</td>\n",
       "      <td>431.3078</td>\n",
       "      <td>0</td>\n",
       "    </tr>\n",
       "    <tr>\n",
       "      <th>2440</th>\n",
       "      <td>C69789682.0</td>\n",
       "      <td>4.2154</td>\n",
       "      <td>903.8663</td>\n",
       "      <td>460.9966</td>\n",
       "      <td>17057.1302</td>\n",
       "      <td>35000.0000</td>\n",
       "      <td>NULL</td>\n",
       "      <td>0.0000</td>\n",
       "      <td>0.0000</td>\n",
       "      <td>0.0000</td>\n",
       "      <td>10.2634</td>\n",
       "      <td>0.9117</td>\n",
       "      <td>2385.1176</td>\n",
       "      <td>3629.6464</td>\n",
       "      <td>53864729#4_0</td>\n",
       "      <td>441.5712</td>\n",
       "      <td>0</td>\n",
       "    </tr>\n",
       "  </tbody>\n",
       "</table>\n",
       "<p>2441 rows × 17 columns</p>\n",
       "</div>"
      ],
      "text/plain": [
       "               id energyConsumed totalEnergyConsumed totalEnergyRegenerated  \\\n",
       "0      C6305319.0         0.0000              0.0000                 0.0000   \n",
       "1      C6305319.0         0.6337              0.6337                 0.0000   \n",
       "2      C6305319.0         1.2525              1.8862                 0.0000   \n",
       "3      C6305319.0         2.2335              4.1197                 0.0000   \n",
       "4      C6305319.0         3.0379              7.1576                 0.0000   \n",
       "...           ...            ...                 ...                    ...   \n",
       "2436  C69789682.0         3.3596            890.1439               460.9966   \n",
       "2437  C69789682.0         3.4096            893.5535               460.9966   \n",
       "2438  C69789682.0         2.7999            896.3534               460.9966   \n",
       "2439  C69789682.0         3.2976            899.6510               460.9966   \n",
       "2440  C69789682.0         4.2154            903.8663               460.9966   \n",
       "\n",
       "     actualBatteryCapacity maximumBatteryCapacity chargingStationId  \\\n",
       "0               17500.0000             35000.0000              NULL   \n",
       "1               17499.3663             35000.0000              NULL   \n",
       "2               17498.1138             35000.0000              NULL   \n",
       "3               17495.8803             35000.0000              NULL   \n",
       "4               17492.8424             35000.0000              NULL   \n",
       "...                    ...                    ...               ...   \n",
       "2436            17070.8527             35000.0000              NULL   \n",
       "2437            17067.4431             35000.0000              NULL   \n",
       "2438            17064.6432             35000.0000              NULL   \n",
       "2439            17061.3456             35000.0000              NULL   \n",
       "2440            17057.1302             35000.0000              NULL   \n",
       "\n",
       "     energyCharged energyChargedInTransit energyChargedStopped    speed  \\\n",
       "0           0.0000                 0.0000               0.0000   0.0000   \n",
       "1           0.0000                 0.0000               0.0000   0.9723   \n",
       "2           0.0000                 0.0000               0.0000   1.7703   \n",
       "3           0.0000                 0.0000               0.0000   2.7693   \n",
       "4           0.0000                 0.0000               0.0000   3.7302   \n",
       "...            ...                    ...                  ...      ...   \n",
       "2436        0.0000                 0.0000               0.0000   6.7236   \n",
       "2437        0.0000                 0.0000               0.0000   7.7190   \n",
       "2438        0.0000                 0.0000               0.0000   8.4661   \n",
       "2439        0.0000                 0.0000               0.0000   9.3517   \n",
       "2440        0.0000                 0.0000               0.0000  10.2634   \n",
       "\n",
       "     acceleration          x          y          lane posOnLane timeStopped  \n",
       "0          0.0000  4016.8263  1694.4668  34572881#1_0   12.1000           0  \n",
       "1          0.9723  4015.8770  1694.6683  34572881#1_0   13.0723           0  \n",
       "2          0.7980  4014.1485  1695.0350  34572881#1_0   14.8426           0  \n",
       "3          0.9990  4011.4448  1695.6088  34572881#1_0   17.6119           0  \n",
       "4          0.9609  4007.8028  1696.3816  34572881#1_0   21.3421           0  \n",
       "...           ...        ...        ...           ...       ...         ...  \n",
       "2436       1.1436  2386.4906  3593.9043  53864729#4_0  405.7710           0  \n",
       "2437       0.9954  2386.1932  3601.6116  53864729#4_0  413.4900           0  \n",
       "2438       0.7471  2385.8670  3610.0648  53864729#4_0  421.9561           0  \n",
       "2439       0.8856  2385.5085  3619.3991  53864729#4_0  431.3078           0  \n",
       "2440       0.9117  2385.1176  3629.6464  53864729#4_0  441.5712           0  \n",
       "\n",
       "[2441 rows x 17 columns]"
      ]
     },
     "execution_count": 14,
     "metadata": {},
     "output_type": "execute_result"
    }
   ],
   "source": [
    "file_path = os.path.join(base_folder, \"Battery.out.xml\")\n",
    "\n",
    "battery_output = et.parse(file_path)\n",
    "battery_output_root = battery_output.getroot()\n",
    "\n",
    "transform = transform_xml(battery_output_root)\n",
    "battery_output_list = list(transform)\n",
    "\n",
    "battery_output_pd = pd.DataFrame(battery_output_list)\n",
    "\n",
    "battery_output_pd = battery_output_pd.drop(battery_output_pd.columns[0], axis=1)\n",
    "battery_output_pd"
   ]
  },
  {
   "cell_type": "code",
   "execution_count": 15,
   "metadata": {
    "execution": {
     "iopub.execute_input": "2024-04-17T12:42:15.457221Z",
     "iopub.status.busy": "2024-04-17T12:42:15.457221Z",
     "iopub.status.idle": "2024-04-17T12:42:15.465018Z",
     "shell.execute_reply": "2024-04-17T12:42:15.465018Z"
    }
   },
   "outputs": [],
   "source": [
    "file_path = os.path.join(base_folder, \"tripinfo.xml\")\n",
    "\n",
    "b_tripinfo_output = et.parse(file_path)\n",
    "b_tripinfo_output_root = b_tripinfo_output.getroot()\n",
    "\n",
    "transform = transform_xml_tripinfo(b_tripinfo_output_root)\n",
    "b_tripinfo_output_list = list(transform)\n",
    "\n",
    "b_tripinfo_output_pd = pd.DataFrame(b_tripinfo_output_list)\n",
    "\n",
    "b_tripinfo_output_pd = b_tripinfo_output_pd.drop(b_tripinfo_output_pd.columns[0], axis=1)\n",
    "#b_tripinfo_output_pd"
   ]
  },
  {
   "cell_type": "code",
   "execution_count": 16,
   "metadata": {
    "execution": {
     "iopub.execute_input": "2024-04-17T12:42:15.472030Z",
     "iopub.status.busy": "2024-04-17T12:42:15.471030Z",
     "iopub.status.idle": "2024-04-17T12:42:15.713788Z",
     "shell.execute_reply": "2024-04-17T12:42:15.713788Z"
    }
   },
   "outputs": [],
   "source": [
    "file_path = os.path.join(base_folder, \"gtfs_pt_vehicles.add.xml\")\n",
    "stops = et.parse(file_path)\n",
    "\n",
    "transform = transform_xml_stops(stops.getroot())\n",
    "stops_list = list(transform)\n",
    "\n",
    "stops_pd = pd.DataFrame(stops_list)"
   ]
  },
  {
   "cell_type": "code",
   "execution_count": 17,
   "metadata": {
    "execution": {
     "iopub.execute_input": "2024-04-17T12:42:15.720605Z",
     "iopub.status.busy": "2024-04-17T12:42:15.719623Z",
     "iopub.status.idle": "2024-04-17T12:42:15.827375Z",
     "shell.execute_reply": "2024-04-17T12:42:15.827375Z"
    }
   },
   "outputs": [],
   "source": [
    "file_path = os.path.join(base_folder, \"gtfs_pt_vehicles.add.xml\")\n",
    "vehicles = et.parse(file_path)\n",
    "\n",
    "transform = transform_xml(vehicles.getroot())\n",
    "vehicles_list = list(transform)\n",
    "\n",
    "vehicles_pd = pd.DataFrame(vehicles_list)\n",
    "vehicles_pd = vehicles_pd.drop(vehicles_pd.columns[0], axis=1)\n",
    "#vehicles_pd"
   ]
  },
  {
   "cell_type": "markdown",
   "metadata": {},
   "source": [
    "## Grouping by id"
   ]
  },
  {
   "cell_type": "code",
   "execution_count": 18,
   "metadata": {
    "execution": {
     "iopub.execute_input": "2024-04-17T12:42:15.831373Z",
     "iopub.status.busy": "2024-04-17T12:42:15.831373Z",
     "iopub.status.idle": "2024-04-17T12:42:15.839727Z",
     "shell.execute_reply": "2024-04-17T12:42:15.838719Z"
    }
   },
   "outputs": [],
   "source": [
    "grouped_df = battery_output_pd.groupby('id')\n",
    "\n",
    "list_of_dfs = [group_data for _, group_data in grouped_df]\n",
    "#C74509106 = list_of_dfs[0]\n",
    "#C74509124 = list_of_dfs[1]\n",
    "#C74509135 = list_of_dfs[2]"
   ]
  },
  {
   "cell_type": "code",
   "execution_count": 19,
   "metadata": {
    "execution": {
     "iopub.execute_input": "2024-04-17T12:42:15.842752Z",
     "iopub.status.busy": "2024-04-17T12:42:15.842752Z",
     "iopub.status.idle": "2024-04-17T12:42:15.848557Z",
     "shell.execute_reply": "2024-04-17T12:42:15.848557Z"
    }
   },
   "outputs": [],
   "source": [
    "grouped_emission_df = emission_output_df.groupby('id')\n",
    "\n",
    "list_of_emission_dfs = [group_data for _, group_data in grouped_emission_df]\n",
    "#list_of_emission_dfs\n",
    "\n"
   ]
  },
  {
   "cell_type": "code",
   "execution_count": 20,
   "metadata": {
    "execution": {
     "iopub.execute_input": "2024-04-17T12:42:15.854548Z",
     "iopub.status.busy": "2024-04-17T12:42:15.853552Z",
     "iopub.status.idle": "2024-04-17T12:42:15.891628Z",
     "shell.execute_reply": "2024-04-17T12:42:15.891628Z"
    }
   },
   "outputs": [
    {
     "name": "stdout",
     "output_type": "stream",
     "text": [
      "             id  avgSpeed   battery timeloss routeLength  numOfStops     up  \\\n",
      "0    C6305319.0  3.033229  192.4163   430.12     1866.71           4  17.51   \n",
      "1   C69789682.0  2.140330  442.8697  1024.37     2861.73           6  46.39   \n",
      "2  C782572610.0  5.427416  335.3405   118.11     2724.58           4  88.58   \n",
      "\n",
      "    down  \n",
      "0 -19.52  \n",
      "1 -15.76  \n",
      "2 -85.17  \n"
     ]
    }
   ],
   "source": [
    "\n",
    "results = []\n",
    "for group_id, group_data in grouped_df:\n",
    "    avg_speed = group_data['speed'].astype(float).mean()\n",
    "    \n",
    "    energy = float(group_data['totalEnergyConsumed'].iloc[-1])-float(group_data['totalEnergyRegenerated'].iloc[-1])\n",
    "    \n",
    "    time_loss = b_tripinfo_output_pd.loc[b_tripinfo_output_pd['id'] == group_id, 'timeLoss'].values[0]\n",
    "    route_length = b_tripinfo_output_pd.loc[b_tripinfo_output_pd['id'] == group_id, 'routeLength'].values[0]\n",
    "    \n",
    "    route = vehicles_pd.loc[vehicles_pd['id'] == group_id, 'route'].values[0]\n",
    "    count_stops = stops_pd[stops_pd['id'] == route]['stops'].apply(len).sum()\n",
    "    \n",
    "    z_up = calc_elevation_up(get_group_by_id(list_of_emission_dfs, group_id))\n",
    "    z_down = calc_elevation_down(get_group_by_id(list_of_emission_dfs, group_id))\n",
    "    \n",
    "    # Store the results in a dictionary\n",
    "    group_result = {\n",
    "        'id': group_id,\n",
    "        'avgSpeed': avg_speed,\n",
    "        'battery': energy,\n",
    "        'timeloss': time_loss,\n",
    "        'routeLength': route_length,\n",
    "        'numOfStops': count_stops,\n",
    "        'up': z_up,\n",
    "        'down': z_down\n",
    "    }\n",
    "    \n",
    "    # Append the dictionary to the results list\n",
    "    results.append(group_result)\n",
    "\n",
    "# Convert the results list to a DataFrame\n",
    "result_df = pd.DataFrame(results)\n",
    "print(result_df)\n"
   ]
  },
  {
   "cell_type": "code",
   "execution_count": 21,
   "metadata": {
    "execution": {
     "iopub.execute_input": "2024-04-17T12:42:15.894627Z",
     "iopub.status.busy": "2024-04-17T12:42:15.894627Z",
     "iopub.status.idle": "2024-04-17T12:42:15.898692Z",
     "shell.execute_reply": "2024-04-17T12:42:15.898692Z"
    }
   },
   "outputs": [],
   "source": [
    "#avg_seed_b = C74509135['speed'].astype(float).mean()\n",
    "#avg_seed_b"
   ]
  },
  {
   "cell_type": "code",
   "execution_count": 22,
   "metadata": {
    "execution": {
     "iopub.execute_input": "2024-04-17T12:42:15.903686Z",
     "iopub.status.busy": "2024-04-17T12:42:15.903686Z",
     "iopub.status.idle": "2024-04-17T12:42:15.908008Z",
     "shell.execute_reply": "2024-04-17T12:42:15.908008Z"
    }
   },
   "outputs": [],
   "source": [
    "#float(C74509106['totalEnergyConsumed'].iloc[-1])-float(C74509106['totalEnergyRegenerated'].iloc[-1])\n",
    "#24 2214.5173999999997  2219.5933\n",
    "#06 2218.0583           2222.9716\n",
    "#35 -615.606            -624.5073000000002"
   ]
  },
  {
   "cell_type": "code",
   "execution_count": 23,
   "metadata": {
    "execution": {
     "iopub.execute_input": "2024-04-17T12:42:15.912003Z",
     "iopub.status.busy": "2024-04-17T12:42:15.911006Z",
     "iopub.status.idle": "2024-04-17T12:42:15.915227Z",
     "shell.execute_reply": "2024-04-17T12:42:15.915227Z"
    }
   },
   "outputs": [],
   "source": [
    "#plt.plot(C74509135['energyConsumed'].astype(float).cumsum())\n",
    "#plt.xlabel('Time')\n",
    "#plt.ylabel('Total Energy Regenerated')\n",
    "#plt.title('Total Energy Regenerated Over Time')\n",
    "#plt.xticks(rotation=45)\n",
    "#plt.tight_layout()\n",
    "#plt.show()"
   ]
  },
  {
   "cell_type": "markdown",
   "metadata": {},
   "source": [
    "# CSV"
   ]
  },
  {
   "cell_type": "code",
   "execution_count": 24,
   "metadata": {
    "execution": {
     "iopub.execute_input": "2024-04-17T12:42:15.920514Z",
     "iopub.status.busy": "2024-04-17T12:42:15.920514Z",
     "iopub.status.idle": "2024-04-17T12:42:15.930711Z",
     "shell.execute_reply": "2024-04-17T12:42:15.930711Z"
    }
   },
   "outputs": [
    {
     "data": {
      "text/plain": [
       "(0, 11)"
      ]
     },
     "execution_count": 24,
     "metadata": {},
     "output_type": "execute_result"
    }
   ],
   "source": [
    "tableBattery = pd.read_csv('batteryData.csv', delimiter=';')\n",
    "\n",
    "tableBattery.shape"
   ]
  },
  {
   "cell_type": "markdown",
   "metadata": {},
   "source": [
    "## settings"
   ]
  },
  {
   "cell_type": "code",
   "execution_count": 25,
   "metadata": {
    "execution": {
     "iopub.execute_input": "2024-04-17T12:42:15.934708Z",
     "iopub.status.busy": "2024-04-17T12:42:15.934708Z",
     "iopub.status.idle": "2024-04-17T12:42:15.940814Z",
     "shell.execute_reply": "2024-04-17T12:42:15.940814Z"
    }
   },
   "outputs": [],
   "source": [
    "locSetting = get_last_folder(base_folder)\n",
    "seedSetting = 'dd'\n",
    "trafficScaleSetting = 'wh'\n",
    "\n",
    "#routeLengthSetting = :)\n",
    "#numOfStopsSetting = :)\n",
    "#tripIdSetting = :)\n",
    "#avgSpeedSetting = :)\n",
    "#timelossSetting = :)\n",
    "#eleupSetting = \n",
    "#eledownSetting = \n",
    "#emissionSetting = :)"
   ]
  },
  {
   "cell_type": "markdown",
   "metadata": {},
   "source": [
    "## Df to csv"
   ]
  },
  {
   "cell_type": "code",
   "execution_count": 26,
   "metadata": {
    "execution": {
     "iopub.execute_input": "2024-04-17T12:42:15.944848Z",
     "iopub.status.busy": "2024-04-17T12:42:15.944848Z",
     "iopub.status.idle": "2024-04-17T12:42:15.959519Z",
     "shell.execute_reply": "2024-04-17T12:42:15.959519Z"
    }
   },
   "outputs": [],
   "source": [
    "for index, row in result_df.iterrows():\n",
    "    row_data = {\n",
    "        'loc': locSetting,\n",
    "        'tripId': row['id'],\n",
    "        'seed': seedSetting,\n",
    "        'avgSpeed': row['avgSpeed'],\n",
    "        'timeloss': row['timeloss'],\n",
    "        'route_length': row['routeLength'],\n",
    "        'elevation_up': row['up'],\n",
    "        'elevation_down': row['down'],\n",
    "        'trafficScale': trafficScaleSetting,\n",
    "        'numOfStops': row['numOfStops'],\n",
    "        'emission': row['battery']\n",
    "    }\n",
    "    temp_df = pd.DataFrame([row_data])\n",
    "    #any empty or all-NA columns in tableBattery are excluded before concatenating the DataFrames\n",
    "    tableBattery = tableBattery.dropna(axis=1, how='all')\n",
    "\n",
    "    tableBattery = pd.concat([tableBattery, temp_df], ignore_index=True)\n"
   ]
  },
  {
   "cell_type": "markdown",
   "metadata": {},
   "source": [
    "'id': group_id,\n",
    "        'avgSpeed': avg_speed,\n",
    "        'batteryCapacity': energy,\n",
    "        'timeloss': time_loss,\n",
    "        'routeLength': route_length,\n",
    "        'stops': count_stops"
   ]
  },
  {
   "cell_type": "code",
   "execution_count": 27,
   "metadata": {
    "execution": {
     "iopub.execute_input": "2024-04-17T12:42:15.963550Z",
     "iopub.status.busy": "2024-04-17T12:42:15.963550Z",
     "iopub.status.idle": "2024-04-17T12:42:15.972856Z",
     "shell.execute_reply": "2024-04-17T12:42:15.971847Z"
    }
   },
   "outputs": [],
   "source": [
    "tableBattery\n",
    "tableBattery.to_csv('batteryData.csv', index=False, sep=';')"
   ]
  }
 ],
 "metadata": {
  "kernelspec": {
   "display_name": "Python 3",
   "language": "python",
   "name": "python3"
  },
  "language_info": {
   "codemirror_mode": {
    "name": "ipython",
    "version": 3
   },
   "file_extension": ".py",
   "mimetype": "text/x-python",
   "name": "python",
   "nbconvert_exporter": "python",
   "pygments_lexer": "ipython3",
   "version": "3.11.9"
  }
 },
 "nbformat": 4,
 "nbformat_minor": 2
}

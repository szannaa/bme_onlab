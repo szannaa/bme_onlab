{
 "cells": [
  {
   "cell_type": "markdown",
   "metadata": {},
   "source": [
    "# Imports"
   ]
  },
  {
   "cell_type": "code",
   "execution_count": 322,
   "metadata": {},
   "outputs": [],
   "source": [
    "import pandas as pd"
   ]
  },
  {
   "cell_type": "code",
   "execution_count": 323,
   "metadata": {},
   "outputs": [],
   "source": [
    "import xml.etree.ElementTree as et"
   ]
  },
  {
   "cell_type": "code",
   "execution_count": 324,
   "metadata": {},
   "outputs": [],
   "source": [
    "import matplotlib.pyplot as plt"
   ]
  },
  {
   "cell_type": "code",
   "execution_count": 325,
   "metadata": {},
   "outputs": [],
   "source": [
    "import os"
   ]
  },
  {
   "cell_type": "markdown",
   "metadata": {},
   "source": [
    "# Functions"
   ]
  },
  {
   "cell_type": "code",
   "execution_count": 326,
   "metadata": {},
   "outputs": [],
   "source": [
    "def transform_xml(xml_doc):\n",
    "    attr = xml_doc.attrib\n",
    "    for xml in xml_doc.iter('vehicle'):\n",
    "        _dict = attr.copy()\n",
    "        _dict.update(xml.attrib)\n",
    "        \n",
    "        yield _dict\n"
   ]
  },
  {
   "cell_type": "code",
   "execution_count": 327,
   "metadata": {},
   "outputs": [],
   "source": [
    "price_per_liter = 624\n",
    "eta = 0.45\n",
    "m = 7500\n",
    "g = 9.81"
   ]
  },
  {
   "cell_type": "code",
   "execution_count": 328,
   "metadata": {},
   "outputs": [],
   "source": [
    "def get_price_up(emission, delta_h):\n",
    "    emission = emission + (1/eta) * m * g * delta_h\n",
    "    emission = emission * price_per_liter\n",
    "    print(emission)\n",
    "    return emission"
   ]
  },
  {
   "cell_type": "code",
   "execution_count": 329,
   "metadata": {},
   "outputs": [],
   "source": [
    "def get_price_down(emission, delta_h):\n",
    "    emission = emission - (1/eta) * m * g * delta_h\n",
    "    emission = emission * price_per_liter\n",
    "    print(emission)\n",
    "    return emission"
   ]
  },
  {
   "cell_type": "code",
   "execution_count": 330,
   "metadata": {},
   "outputs": [],
   "source": [
    "def get_last_folder(path):\n",
    "    # Normalize the path to handle different separators and remove trailing separator\n",
    "    normalized_path = os.path.normpath(path)\n",
    "    # Split the path into components\n",
    "    folders = normalized_path.split(os.sep)\n",
    "    # Get the last folder\n",
    "    last_folder = folders[-1]\n",
    "    return last_folder"
   ]
  },
  {
   "cell_type": "code",
   "execution_count": 331,
   "metadata": {},
   "outputs": [],
   "source": [
    "def calc_elevation_up(group):\n",
    "    z_diff = pd.to_numeric(group['z']).diff()\n",
    "\n",
    "    # Filter out negative differences (upward movement)\n",
    "    up = z_diff.apply(lambda x: x if x > 0 else 0)\n",
    "\n",
    "    # Sum the positive differences to get the total upward movement\n",
    "    total_up = up.sum()\n",
    "    return total_up"
   ]
  },
  {
   "cell_type": "code",
   "execution_count": 332,
   "metadata": {},
   "outputs": [],
   "source": [
    "def calc_elevation_down(group):\n",
    "    z_diff = pd.to_numeric(group['z']).diff()\n",
    "\n",
    "    # Filter out negative differences (upward movement)\n",
    "    down = z_diff.apply(lambda x: x if x < 0 else 0)\n",
    "\n",
    "    # Sum the positive differences to get the total upward movement\n",
    "    total_down = down.sum()\n",
    "    return total_down"
   ]
  },
  {
   "cell_type": "code",
   "execution_count": 333,
   "metadata": {},
   "outputs": [],
   "source": [
    "def transform_xml_tripinfo(xml_doc):\n",
    "    attr = xml_doc.attrib\n",
    "    for xml in xml_doc.iter('tripinfo'):\n",
    "        _dict = attr.copy()\n",
    "        _dict.update(xml.attrib)\n",
    "        \n",
    "        yield _dict"
   ]
  },
  {
   "cell_type": "code",
   "execution_count": 334,
   "metadata": {},
   "outputs": [],
   "source": [
    "def transform_xml_stops(xml_doc):\n",
    "    for route in xml_doc.iter('route'):\n",
    "        route_dict = route.attrib.copy()\n",
    "        stops = []\n",
    "        \n",
    "        # Iterate over each <stop> element within the current <route> element\n",
    "        for stop in route.findall('stop'):\n",
    "            stop_dict = stop.attrib.copy()\n",
    "            stops.append(stop_dict)\n",
    "        \n",
    "        # Include stops in the route dictionary\n",
    "        route_dict['stops'] = stops\n",
    "        \n",
    "        yield route_dict"
   ]
  },
  {
   "cell_type": "markdown",
   "metadata": {},
   "source": [
    "# XML to df"
   ]
  },
  {
   "cell_type": "code",
   "execution_count": 335,
   "metadata": {},
   "outputs": [],
   "source": [
    "base_folder = \"C:\\\\Users\\\\Admin\\\\Sumo\\\\normafa_e\""
   ]
  },
  {
   "cell_type": "code",
   "execution_count": 336,
   "metadata": {},
   "outputs": [
    {
     "data": {
      "text/plain": [
       "(17263, 20)"
      ]
     },
     "execution_count": 336,
     "metadata": {},
     "output_type": "execute_result"
    }
   ],
   "source": [
    "file_path = os.path.join(base_folder, \"emission.out.xml\")\n",
    "emission_output = et.parse(file_path)\n",
    "\n",
    "transform = transform_xml(emission_output.getroot())\n",
    "emission_output_list = list(transform)\n",
    "\n",
    "emission_output_df = pd.DataFrame(emission_output_list)\n",
    "emission_output_df = emission_output_df.drop(emission_output_df.columns[0], axis=1)\n",
    "\n",
    "emission_output_df.shape"
   ]
  },
  {
   "cell_type": "code",
   "execution_count": 337,
   "metadata": {},
   "outputs": [],
   "source": [
    "file_path = os.path.join(base_folder, \"tripinfo.xml\")\n",
    "b_tripinfo_output = et.parse(file_path)\n",
    "\n",
    "transform = transform_xml_tripinfo(b_tripinfo_output.getroot())\n",
    "b_tripinfo_output_list = list(transform)\n",
    "\n",
    "b_tripinfo_output_pd = pd.DataFrame(b_tripinfo_output_list)\n",
    "b_tripinfo_output_pd = b_tripinfo_output_pd.drop(b_tripinfo_output_pd.columns[0], axis=1)\n",
    "#b_tripinfo_output_pd"
   ]
  },
  {
   "cell_type": "code",
   "execution_count": 338,
   "metadata": {},
   "outputs": [],
   "source": [
    "file_path = os.path.join(base_folder, \"gtfs_pt_vehicles.add.xml\")\n",
    "stops = et.parse(file_path)\n",
    "\n",
    "transform = transform_xml_stops(stops.getroot())\n",
    "stops_list = list(transform)\n",
    "\n",
    "stops_pd = pd.DataFrame(stops_list)"
   ]
  },
  {
   "cell_type": "code",
   "execution_count": 339,
   "metadata": {},
   "outputs": [],
   "source": [
    "file_path = os.path.join(base_folder, \"gtfs_pt_vehicles.add.xml\")\n",
    "vehicles = et.parse(file_path)\n",
    "\n",
    "transform = transform_xml(vehicles.getroot())\n",
    "vehicles_list = list(transform)\n",
    "\n",
    "vehicles_pd = pd.DataFrame(vehicles_list)\n",
    "vehicles_pd = vehicles_pd.drop(vehicles_pd.columns[0], axis=1)\n",
    "#vehicles_pd"
   ]
  },
  {
   "cell_type": "markdown",
   "metadata": {},
   "source": [
    "# Group by id"
   ]
  },
  {
   "cell_type": "code",
   "execution_count": 340,
   "metadata": {},
   "outputs": [],
   "source": [
    "grouped_df = emission_output_df.groupby('id')\n",
    "\n",
    "list_of_dfs = [group_data for _, group_data in grouped_df]\n",
    "#C74509106 = list_of_dfs[0]\n",
    "#C74509124 = list_of_dfs[1]\n",
    "#C74509135 = list_of_dfs[2]"
   ]
  },
  {
   "cell_type": "code",
   "execution_count": 341,
   "metadata": {},
   "outputs": [
    {
     "name": "stdout",
     "output_type": "stream",
     "text": [
      "49940049.6626\n",
      "49984656.591\n",
      "50442860.4179\n",
      "57380505.0282\n",
      "3251647.276400001\n",
      "6066856.235400002\n",
      "43274778.52700001\n",
      "5856393.258800004\n",
      "6049037.233700005\n",
      "43364118.55260001\n",
      "10518748.494199999\n",
      "44365201.31880001\n",
      "44839817.97510001\n",
      "51175159.001099996\n",
      "               id  avgSpeed          fuel timeloss routeLength  numOfStops  \\\n",
      "0     C74509106.0  4.540460  3.116259e+10   567.80     6841.14          19   \n",
      "1     C74509124.0  4.541660  3.119043e+10   423.19     6841.14          19   \n",
      "2     C74509135.0  4.330721  3.147634e+10   737.14     6896.22          18   \n",
      "3       C746662.0  5.113341  3.580544e+10   468.29     7041.30          16   \n",
      "4     C76142196.0  2.020945  2.029028e+09   322.71      837.41           3   \n",
      "5     C76796102.0  3.682223  3.785718e+09   211.68     2664.71           9   \n",
      "6     C76796110.0  4.904788  2.700346e+10   232.87     5331.22          15   \n",
      "7     C76796171.0  4.822915  3.654389e+09   209.78     2604.73           9   \n",
      "8     C76796174.0  3.680098  3.774599e+09   186.36     2664.71           9   \n",
      "9     C76796178.0  4.906088  2.705921e+10   245.39     5331.22          15   \n",
      "10     C7726411.0  5.235882  6.563699e+09   488.09     5793.03          17   \n",
      "11  C7784112465.0  4.079940  2.768389e+10   616.97     4946.68          12   \n",
      "12  C7784112476.0  2.736285  2.798005e+10  1364.18     5142.06          12   \n",
      "13  C7784112511.0  3.606950  3.193330e+10  1604.50     9072.09          23   \n",
      "\n",
      "          up      down  \n",
      "0   318.1175  -37.4240  \n",
      "1   317.9366  -37.2431  \n",
      "2    36.7584 -321.3426  \n",
      "3    41.1449 -370.8821  \n",
      "4    13.0459  -28.5451  \n",
      "5    64.0240  -37.9329  \n",
      "6   290.3384  -43.6102  \n",
      "7    35.0716  -61.0028  \n",
      "8    64.0510  -38.0605  \n",
      "9   290.6256  -43.8974  \n",
      "10  105.8293 -148.9755  \n",
      "11   34.6070 -288.8792  \n",
      "12  289.2588  -37.7286  \n",
      "13  386.8039 -108.8490  \n"
     ]
    }
   ],
   "source": [
    "\n",
    "results = []\n",
    "for group_id, group_data in grouped_df:\n",
    "    avg_speed = group_data['speed'].astype(float).mean()\n",
    "\n",
    "    time_loss = b_tripinfo_output_pd.loc[b_tripinfo_output_pd['id'] == group_id, 'timeLoss'].values[0]\n",
    "    route_length = b_tripinfo_output_pd.loc[b_tripinfo_output_pd['id'] == group_id, 'routeLength'].values[0]\n",
    "    \n",
    "    route = vehicles_pd.loc[vehicles_pd['id'] == group_id, 'route'].values[0]\n",
    "    count_stops = stops_pd[stops_pd['id'] == route]['stops'].apply(len).sum()\n",
    "    \n",
    "    z_up = calc_elevation_up(group_data)\n",
    "    z_down = calc_elevation_down(group_data)\n",
    "    \n",
    "    d_height = z_up + z_down\n",
    "    \n",
    "    fuel_sum = group_data['fuel'].astype(float).sum()\n",
    "    \n",
    "    if(d_height >= 0):\n",
    "        fuel_sum = get_price_up(group_data['fuel'].astype(float).sum(), d_height)\n",
    "    else:\n",
    "        fuel_sum = get_price_down(group_data['fuel'].astype(float).sum(), d_height)\n",
    "    \n",
    "    # Store the results in a dictionary\n",
    "    group_result = {\n",
    "        'id': group_id,\n",
    "        'avgSpeed': avg_speed,\n",
    "        'fuel': fuel_sum,\n",
    "        'timeloss': time_loss,\n",
    "        'routeLength': route_length,\n",
    "        'numOfStops': count_stops,\n",
    "        'up': z_up,\n",
    "        'down': z_down\n",
    "    }\n",
    "    \n",
    "    # Append the dictionary to the results list\n",
    "    results.append(group_result)\n",
    "\n",
    "# Convert the results list to a DataFrame\n",
    "result_df = pd.DataFrame(results)\n",
    "print(result_df)\n"
   ]
  },
  {
   "cell_type": "code",
   "execution_count": 342,
   "metadata": {},
   "outputs": [],
   "source": [
    "#avg_seed_b = C74509135['speed'].astype(float).mean()\n",
    "#avg_seed_b"
   ]
  },
  {
   "cell_type": "code",
   "execution_count": 343,
   "metadata": {},
   "outputs": [],
   "source": [
    "#float(C74509106['totalEnergyConsumed'].iloc[-1])-float(C74509106['totalEnergyRegenerated'].iloc[-1])\n",
    "#24 2214.5173999999997  2219.5933\n",
    "#06 2218.0583           2222.9716\n",
    "#35 -615.606            -624.5073000000002"
   ]
  },
  {
   "cell_type": "code",
   "execution_count": 344,
   "metadata": {},
   "outputs": [],
   "source": [
    "#plt.plot(C74509135['energyConsumed'].astype(float).cumsum())\n",
    "#plt.xlabel('Time')\n",
    "#plt.ylabel('Total Energy Regenerated')\n",
    "#plt.title('Total Energy Regenerated Over Time')\n",
    "#plt.xticks(rotation=45)\n",
    "#plt.tight_layout()\n",
    "#plt.show()"
   ]
  },
  {
   "cell_type": "markdown",
   "metadata": {},
   "source": [
    "# CSV"
   ]
  },
  {
   "cell_type": "code",
   "execution_count": 345,
   "metadata": {},
   "outputs": [
    {
     "data": {
      "text/plain": [
       "(63, 11)"
      ]
     },
     "execution_count": 345,
     "metadata": {},
     "output_type": "execute_result"
    }
   ],
   "source": [
    "tableEmission = pd.read_csv('emissionData.csv', delimiter=';')\n",
    "\n",
    "tableEmission.shape"
   ]
  },
  {
   "cell_type": "markdown",
   "metadata": {},
   "source": [
    "## settings"
   ]
  },
  {
   "cell_type": "code",
   "execution_count": 346,
   "metadata": {},
   "outputs": [],
   "source": [
    "locSetting = get_last_folder(base_folder)\n",
    "seedSetting = 'dd'\n",
    "trafficScaleSetting = 'wh'\n",
    "\n",
    "#routeLengthSetting = :)\n",
    "#numOfStopsSetting = :)\n",
    "#tripIdSetting = :)\n",
    "#avgSpeedSetting = :)\n",
    "#timelossSetting = :)\n",
    "#eleupSetting = \n",
    "#eledownSetting = \n",
    "#emissionSetting = :)"
   ]
  },
  {
   "cell_type": "code",
   "execution_count": 347,
   "metadata": {},
   "outputs": [],
   "source": [
    "for index, row in result_df.iterrows():\n",
    "    row_data = {\n",
    "        'loc': locSetting,\n",
    "        'tripId': row['id'],\n",
    "        'seed': seedSetting,\n",
    "        'avgSpeed': row['avgSpeed'],\n",
    "        'timeloss': row['timeloss'],\n",
    "        'route_length': row['routeLength'],\n",
    "        'elevation_up': row['up'],\n",
    "        'elevation_down': row['down'],\n",
    "        'trafficScale': trafficScaleSetting,\n",
    "        'numOfStops': row['numOfStops'],\n",
    "        'emission': row['fuel']\n",
    "    }\n",
    "    temp_df = pd.DataFrame([row_data])\n",
    "    #any empty or all-NA columns in tableEmission are excluded before concatenating the DataFrames\n",
    "    tableEmission = tableEmission.dropna(axis=1, how='all')\n",
    "\n",
    "    tableEmission = pd.concat([tableEmission, temp_df], ignore_index=True)\n"
   ]
  },
  {
   "cell_type": "code",
   "execution_count": 348,
   "metadata": {},
   "outputs": [
    {
     "data": {
      "text/html": [
       "<div>\n",
       "<style scoped>\n",
       "    .dataframe tbody tr th:only-of-type {\n",
       "        vertical-align: middle;\n",
       "    }\n",
       "\n",
       "    .dataframe tbody tr th {\n",
       "        vertical-align: top;\n",
       "    }\n",
       "\n",
       "    .dataframe thead th {\n",
       "        text-align: right;\n",
       "    }\n",
       "</style>\n",
       "<table border=\"1\" class=\"dataframe\">\n",
       "  <thead>\n",
       "    <tr style=\"text-align: right;\">\n",
       "      <th></th>\n",
       "      <th>loc</th>\n",
       "      <th>seed</th>\n",
       "      <th>trafficScale</th>\n",
       "      <th>tripId</th>\n",
       "      <th>avgSpeed</th>\n",
       "      <th>timeloss</th>\n",
       "      <th>route_length</th>\n",
       "      <th>elevation_up</th>\n",
       "      <th>elevation_down</th>\n",
       "      <th>numOfStops</th>\n",
       "      <th>emission</th>\n",
       "    </tr>\n",
       "  </thead>\n",
       "  <tbody>\n",
       "    <tr>\n",
       "      <th>0</th>\n",
       "      <td>normafa_e</td>\n",
       "      <td>1</td>\n",
       "      <td>0.3</td>\n",
       "      <td>C74509106.0</td>\n",
       "      <td>4.541014</td>\n",
       "      <td>454.73</td>\n",
       "      <td>6841.14</td>\n",
       "      <td>317.6720</td>\n",
       "      <td>-36.9785</td>\n",
       "      <td>19</td>\n",
       "      <td>4.045507e+06</td>\n",
       "    </tr>\n",
       "    <tr>\n",
       "      <th>1</th>\n",
       "      <td>normafa_e</td>\n",
       "      <td>1</td>\n",
       "      <td>0.3</td>\n",
       "      <td>C74509124.0</td>\n",
       "      <td>4.541174</td>\n",
       "      <td>564.58</td>\n",
       "      <td>6841.14</td>\n",
       "      <td>317.8229</td>\n",
       "      <td>-37.1294</td>\n",
       "      <td>19</td>\n",
       "      <td>4.044010e+06</td>\n",
       "    </tr>\n",
       "    <tr>\n",
       "      <th>2</th>\n",
       "      <td>normafa_e</td>\n",
       "      <td>1</td>\n",
       "      <td>0.3</td>\n",
       "      <td>C74509135.0</td>\n",
       "      <td>5.296114</td>\n",
       "      <td>433.93</td>\n",
       "      <td>6896.22</td>\n",
       "      <td>36.5292</td>\n",
       "      <td>-321.1170</td>\n",
       "      <td>18</td>\n",
       "      <td>3.677449e+06</td>\n",
       "    </tr>\n",
       "    <tr>\n",
       "      <th>3</th>\n",
       "      <td>normafa_e</td>\n",
       "      <td>1</td>\n",
       "      <td>0.3</td>\n",
       "      <td>C746662.0</td>\n",
       "      <td>5.378957</td>\n",
       "      <td>402.96</td>\n",
       "      <td>7041.3</td>\n",
       "      <td>40.5830</td>\n",
       "      <td>-370.3203</td>\n",
       "      <td>16</td>\n",
       "      <td>3.388182e+06</td>\n",
       "    </tr>\n",
       "    <tr>\n",
       "      <th>4</th>\n",
       "      <td>normafa_e</td>\n",
       "      <td>1</td>\n",
       "      <td>0.3</td>\n",
       "      <td>C76142196.0</td>\n",
       "      <td>3.737428</td>\n",
       "      <td>133.48</td>\n",
       "      <td>837.41</td>\n",
       "      <td>12.9467</td>\n",
       "      <td>-29.1235</td>\n",
       "      <td>3</td>\n",
       "      <td>5.280260e+05</td>\n",
       "    </tr>\n",
       "    <tr>\n",
       "      <th>...</th>\n",
       "      <td>...</td>\n",
       "      <td>...</td>\n",
       "      <td>...</td>\n",
       "      <td>...</td>\n",
       "      <td>...</td>\n",
       "      <td>...</td>\n",
       "      <td>...</td>\n",
       "      <td>...</td>\n",
       "      <td>...</td>\n",
       "      <td>...</td>\n",
       "      <td>...</td>\n",
       "    </tr>\n",
       "    <tr>\n",
       "      <th>72</th>\n",
       "      <td>normafa_e</td>\n",
       "      <td>dd</td>\n",
       "      <td>wh</td>\n",
       "      <td>C76796178.0</td>\n",
       "      <td>4.906088</td>\n",
       "      <td>245.39</td>\n",
       "      <td>5331.22</td>\n",
       "      <td>290.6256</td>\n",
       "      <td>-43.8974</td>\n",
       "      <td>15</td>\n",
       "      <td>2.705921e+10</td>\n",
       "    </tr>\n",
       "    <tr>\n",
       "      <th>73</th>\n",
       "      <td>normafa_e</td>\n",
       "      <td>dd</td>\n",
       "      <td>wh</td>\n",
       "      <td>C7726411.0</td>\n",
       "      <td>5.235882</td>\n",
       "      <td>488.09</td>\n",
       "      <td>5793.03</td>\n",
       "      <td>105.8293</td>\n",
       "      <td>-148.9755</td>\n",
       "      <td>17</td>\n",
       "      <td>6.563699e+09</td>\n",
       "    </tr>\n",
       "    <tr>\n",
       "      <th>74</th>\n",
       "      <td>normafa_e</td>\n",
       "      <td>dd</td>\n",
       "      <td>wh</td>\n",
       "      <td>C7784112465.0</td>\n",
       "      <td>4.079940</td>\n",
       "      <td>616.97</td>\n",
       "      <td>4946.68</td>\n",
       "      <td>34.6070</td>\n",
       "      <td>-288.8792</td>\n",
       "      <td>12</td>\n",
       "      <td>2.768389e+10</td>\n",
       "    </tr>\n",
       "    <tr>\n",
       "      <th>75</th>\n",
       "      <td>normafa_e</td>\n",
       "      <td>dd</td>\n",
       "      <td>wh</td>\n",
       "      <td>C7784112476.0</td>\n",
       "      <td>2.736285</td>\n",
       "      <td>1364.18</td>\n",
       "      <td>5142.06</td>\n",
       "      <td>289.2588</td>\n",
       "      <td>-37.7286</td>\n",
       "      <td>12</td>\n",
       "      <td>2.798005e+10</td>\n",
       "    </tr>\n",
       "    <tr>\n",
       "      <th>76</th>\n",
       "      <td>normafa_e</td>\n",
       "      <td>dd</td>\n",
       "      <td>wh</td>\n",
       "      <td>C7784112511.0</td>\n",
       "      <td>3.606950</td>\n",
       "      <td>1604.50</td>\n",
       "      <td>9072.09</td>\n",
       "      <td>386.8039</td>\n",
       "      <td>-108.8490</td>\n",
       "      <td>23</td>\n",
       "      <td>3.193330e+10</td>\n",
       "    </tr>\n",
       "  </tbody>\n",
       "</table>\n",
       "<p>77 rows × 11 columns</p>\n",
       "</div>"
      ],
      "text/plain": [
       "          loc seed trafficScale         tripId  avgSpeed timeloss  \\\n",
       "0   normafa_e    1          0.3    C74509106.0  4.541014   454.73   \n",
       "1   normafa_e    1          0.3    C74509124.0  4.541174   564.58   \n",
       "2   normafa_e    1          0.3    C74509135.0  5.296114   433.93   \n",
       "3   normafa_e    1          0.3      C746662.0  5.378957   402.96   \n",
       "4   normafa_e    1          0.3    C76142196.0  3.737428   133.48   \n",
       "..        ...  ...          ...            ...       ...      ...   \n",
       "72  normafa_e   dd           wh    C76796178.0  4.906088   245.39   \n",
       "73  normafa_e   dd           wh     C7726411.0  5.235882   488.09   \n",
       "74  normafa_e   dd           wh  C7784112465.0  4.079940   616.97   \n",
       "75  normafa_e   dd           wh  C7784112476.0  2.736285  1364.18   \n",
       "76  normafa_e   dd           wh  C7784112511.0  3.606950  1604.50   \n",
       "\n",
       "   route_length  elevation_up  elevation_down  numOfStops      emission  \n",
       "0       6841.14      317.6720        -36.9785          19  4.045507e+06  \n",
       "1       6841.14      317.8229        -37.1294          19  4.044010e+06  \n",
       "2       6896.22       36.5292       -321.1170          18  3.677449e+06  \n",
       "3        7041.3       40.5830       -370.3203          16  3.388182e+06  \n",
       "4        837.41       12.9467        -29.1235           3  5.280260e+05  \n",
       "..          ...           ...             ...         ...           ...  \n",
       "72      5331.22      290.6256        -43.8974          15  2.705921e+10  \n",
       "73      5793.03      105.8293       -148.9755          17  6.563699e+09  \n",
       "74      4946.68       34.6070       -288.8792          12  2.768389e+10  \n",
       "75      5142.06      289.2588        -37.7286          12  2.798005e+10  \n",
       "76      9072.09      386.8039       -108.8490          23  3.193330e+10  \n",
       "\n",
       "[77 rows x 11 columns]"
      ]
     },
     "execution_count": 348,
     "metadata": {},
     "output_type": "execute_result"
    }
   ],
   "source": [
    "tableEmission.to_csv('batteryData.csv', index=False, sep=';')\n",
    "tableEmission"
   ]
  }
 ],
 "metadata": {
  "kernelspec": {
   "display_name": "Python 3",
   "language": "python",
   "name": "python3"
  },
  "language_info": {
   "codemirror_mode": {
    "name": "ipython",
    "version": 3
   },
   "file_extension": ".py",
   "mimetype": "text/x-python",
   "name": "python",
   "nbconvert_exporter": "python",
   "pygments_lexer": "ipython3",
   "version": "3.11.9"
  }
 },
 "nbformat": 4,
 "nbformat_minor": 2
}

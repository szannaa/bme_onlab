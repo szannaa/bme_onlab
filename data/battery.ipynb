{
 "cells": [
  {
   "cell_type": "markdown",
   "metadata": {},
   "source": [
    "# Imports"
   ]
  },
  {
   "cell_type": "code",
   "execution_count": 92,
   "metadata": {},
   "outputs": [],
   "source": [
    "import pandas as pd"
   ]
  },
  {
   "cell_type": "code",
   "execution_count": 93,
   "metadata": {},
   "outputs": [],
   "source": [
    "import xml.etree.ElementTree as et"
   ]
  },
  {
   "cell_type": "code",
   "execution_count": 94,
   "metadata": {},
   "outputs": [],
   "source": [
    "import os\n",
    "import sys"
   ]
  },
  {
   "cell_type": "code",
   "execution_count": 95,
   "metadata": {},
   "outputs": [],
   "source": [
    "import matplotlib.pyplot as plt"
   ]
  },
  {
   "cell_type": "code",
   "execution_count": 96,
   "metadata": {},
   "outputs": [],
   "source": [
    "#import argparse\n",
    "\n",
    "# Define and parse command-line arguments\n",
    "#parser = argparse.ArgumentParser(description='Process some integers.')\n",
    "#parser.add_argument('--seed', type=int, help='Seed value')\n",
    "#parser.add_argument('--traffic_scale', type=float, help='Traffic scale value')\n",
    "#args = parser.parse_args()"
   ]
  },
  {
   "cell_type": "markdown",
   "metadata": {},
   "source": [
    "# Functions"
   ]
  },
  {
   "cell_type": "code",
   "execution_count": 97,
   "metadata": {},
   "outputs": [],
   "source": [
    "def get_last_folder(path):\n",
    "    # Normalize the path to handle different separators and remove trailing separator\n",
    "    normalized_path = os.path.normpath(path)\n",
    "    # Split the path into components\n",
    "    folders = normalized_path.split(os.sep)\n",
    "    # Get the last folder\n",
    "    last_folder = folders[-1]\n",
    "    return last_folder"
   ]
  },
  {
   "cell_type": "code",
   "execution_count": 98,
   "metadata": {},
   "outputs": [],
   "source": [
    "price_per_wh = 110 / 1000"
   ]
  },
  {
   "cell_type": "code",
   "execution_count": 99,
   "metadata": {},
   "outputs": [],
   "source": [
    "def get_price(d_energy):\n",
    "    return d_energy * price_per_wh"
   ]
  },
  {
   "cell_type": "code",
   "execution_count": 100,
   "metadata": {},
   "outputs": [],
   "source": [
    "def transform_xml(xml_doc):\n",
    "    attr = xml_doc.attrib\n",
    "    for xml in xml_doc.iter('vehicle'):\n",
    "        _dict = attr.copy()\n",
    "        _dict.update(xml.attrib)\n",
    "        \n",
    "        yield _dict\n"
   ]
  },
  {
   "cell_type": "code",
   "execution_count": 101,
   "metadata": {},
   "outputs": [],
   "source": [
    "def get_route_id(trip_id, trip_ids):\n",
    "    trip_id = trip_id[:-2]\n",
    "    line = trip_ids.loc[trip_ids['trip_id'] == trip_id]\n",
    "    route_id = line.iloc[0]['route_id']\n",
    "\n",
    "    return route_id"
   ]
  },
  {
   "cell_type": "code",
   "execution_count": 102,
   "metadata": {},
   "outputs": [],
   "source": [
    "def get_routeids_df(base_folder):\n",
    "    file_path = os.path.join(base_folder, \"trips.txt\")\n",
    "    return pd.read_csv(file_path, sep=\",\")"
   ]
  },
  {
   "cell_type": "code",
   "execution_count": 103,
   "metadata": {},
   "outputs": [],
   "source": [
    "def calc_elevation_up(group):\n",
    "    z_diff = pd.to_numeric(group['z']).diff()\n",
    "\n",
    "    # Filter out negative differences (upward movement)\n",
    "    up = z_diff.apply(lambda x: x if x > 0 else 0)\n",
    "\n",
    "    # Sum the positive differences to get the total upward movement\n",
    "    total_up = up.sum()\n",
    "    return total_up"
   ]
  },
  {
   "cell_type": "code",
   "execution_count": 104,
   "metadata": {},
   "outputs": [],
   "source": [
    "def calc_elevation_down(group):\n",
    "    z_diff = pd.to_numeric(group['z']).diff()\n",
    "\n",
    "    # Filter out negative differences (upward movement)\n",
    "    down = z_diff.apply(lambda x: x if x < 0 else 0)\n",
    "\n",
    "    # Sum the positive differences to get the total upward movement\n",
    "    total_down = down.sum()\n",
    "    return total_down"
   ]
  },
  {
   "cell_type": "code",
   "execution_count": 105,
   "metadata": {},
   "outputs": [],
   "source": [
    "def transform_xml_tripinfo(xml_doc):\n",
    "    attr = xml_doc.attrib\n",
    "    for xml in xml_doc.iter('tripinfo'):\n",
    "        _dict = attr.copy()\n",
    "        _dict.update(xml.attrib)\n",
    "        \n",
    "        yield _dict"
   ]
  },
  {
   "cell_type": "code",
   "execution_count": 106,
   "metadata": {},
   "outputs": [],
   "source": [
    "def transform_xml_stops(xml_doc):\n",
    "    for route in xml_doc.iter('route'):\n",
    "        route_dict = route.attrib.copy()\n",
    "        stops = []\n",
    "        \n",
    "        for stop in route.findall('stop'):\n",
    "            stop_dict = stop.attrib.copy()\n",
    "            stops.append(stop_dict)\n",
    "        \n",
    "        route_dict['stops'] = stops\n",
    "        \n",
    "        yield route_dict"
   ]
  },
  {
   "cell_type": "code",
   "execution_count": 107,
   "metadata": {},
   "outputs": [],
   "source": [
    "def get_group_by_id(list_of_dfs, desired_id):\n",
    "    for df in list_of_dfs:\n",
    "        if desired_id in df['id'].values:\n",
    "            return df[df['id'] == desired_id]\n",
    "    raise ValueError(f\"ID '{desired_id}' not found in any dataframe.\")"
   ]
  },
  {
   "cell_type": "code",
   "execution_count": 108,
   "metadata": {},
   "outputs": [],
   "source": [
    "def main(seed, scale):\n",
    "    print(seed + \" \" + scale)"
   ]
  },
  {
   "cell_type": "markdown",
   "metadata": {},
   "source": [
    "# XML to df"
   ]
  },
  {
   "cell_type": "code",
   "execution_count": 109,
   "metadata": {},
   "outputs": [],
   "source": [
    "base_folder = \"C:\\\\Users\\\\Admin\\\\Sumo\\\\nap_normafa_b\""
   ]
  },
  {
   "cell_type": "code",
   "execution_count": 110,
   "metadata": {},
   "outputs": [],
   "source": [
    "file_path = os.path.join(base_folder, \"emission.out.xml\")\n",
    "emission_output = et.parse(file_path)\n",
    "\n",
    "transform = transform_xml(emission_output.getroot())\n",
    "emission_output_list = list(transform)\n",
    "\n",
    "emission_output_df = pd.DataFrame(emission_output_list)\n",
    "emission_output_df = emission_output_df.drop(emission_output_df.columns[0], axis=1)\n",
    "\n",
    "#emission_output_df.shape"
   ]
  },
  {
   "cell_type": "code",
   "execution_count": 111,
   "metadata": {},
   "outputs": [],
   "source": [
    "file_path = os.path.join(base_folder, \"Battery.out.xml\")\n",
    "\n",
    "battery_output = et.parse(file_path)\n",
    "battery_output_root = battery_output.getroot()\n",
    "\n",
    "transform = transform_xml(battery_output_root)\n",
    "battery_output_list = list(transform)\n",
    "\n",
    "battery_output_pd = pd.DataFrame(battery_output_list)\n",
    "\n",
    "battery_output_pd = battery_output_pd.drop(battery_output_pd.columns[0], axis=1)\n",
    "#battery_output_pd"
   ]
  },
  {
   "cell_type": "code",
   "execution_count": 112,
   "metadata": {},
   "outputs": [],
   "source": [
    "file_path = os.path.join(base_folder, \"tripinfo.xml\")\n",
    "\n",
    "b_tripinfo_output = et.parse(file_path)\n",
    "b_tripinfo_output_root = b_tripinfo_output.getroot()\n",
    "\n",
    "transform = transform_xml_tripinfo(b_tripinfo_output_root)\n",
    "b_tripinfo_output_list = list(transform)\n",
    "\n",
    "b_tripinfo_output_pd = pd.DataFrame(b_tripinfo_output_list)\n",
    "\n",
    "b_tripinfo_output_pd = b_tripinfo_output_pd.drop(b_tripinfo_output_pd.columns[0], axis=1)\n",
    "#b_tripinfo_output_pd"
   ]
  },
  {
   "cell_type": "code",
   "execution_count": 113,
   "metadata": {},
   "outputs": [],
   "source": [
    "file_path = os.path.join(base_folder, \"gtfs_pt_vehicles.add.xml\")\n",
    "stops = et.parse(file_path)\n",
    "\n",
    "transform = transform_xml_stops(stops.getroot())\n",
    "stops_list = list(transform)\n",
    "\n",
    "stops_pd = pd.DataFrame(stops_list)"
   ]
  },
  {
   "cell_type": "code",
   "execution_count": 114,
   "metadata": {},
   "outputs": [],
   "source": [
    "file_path = os.path.join(base_folder, \"gtfs_pt_vehicles.add.xml\")\n",
    "vehicles = et.parse(file_path)\n",
    "\n",
    "transform = transform_xml(vehicles.getroot())\n",
    "vehicles_list = list(transform)\n",
    "\n",
    "vehicles_pd = pd.DataFrame(vehicles_list)\n",
    "vehicles_pd = vehicles_pd.drop(vehicles_pd.columns[0], axis=1)\n",
    "#vehicles_pd"
   ]
  },
  {
   "cell_type": "code",
   "execution_count": 115,
   "metadata": {},
   "outputs": [],
   "source": [
    "route_ids_df = get_routeids_df(base_folder)"
   ]
  },
  {
   "cell_type": "markdown",
   "metadata": {},
   "source": [
    "## Grouping by id"
   ]
  },
  {
   "cell_type": "code",
   "execution_count": 116,
   "metadata": {},
   "outputs": [],
   "source": [
    "grouped_df = battery_output_pd.groupby('id')\n",
    "\n",
    "list_of_dfs = [group_data for _, group_data in grouped_df]\n",
    "#list_of_dfs"
   ]
  },
  {
   "cell_type": "code",
   "execution_count": 117,
   "metadata": {},
   "outputs": [],
   "source": [
    "grouped_emission_df = emission_output_df.groupby('id')\n",
    "\n",
    "list_of_emission_dfs = [group_data for _, group_data in grouped_emission_df]\n",
    "#list_of_emission_dfs\n",
    "\n"
   ]
  },
  {
   "cell_type": "code",
   "execution_count": 118,
   "metadata": {},
   "outputs": [],
   "source": [
    "for group_id, group_data in grouped_df:\n",
    "    avg_speed = group_data['speed'].astype(float).mean()\n",
    "    \n",
    "    energy = float(group_data['totalEnergyConsumed'].iloc[-1])-float(group_data['totalEnergyRegenerated'].iloc[-1])\n",
    "    #print(get_price(energy))"
   ]
  },
  {
   "cell_type": "code",
   "execution_count": 119,
   "metadata": {},
   "outputs": [],
   "source": [
    "\n",
    "results = []\n",
    "for group_id, group_data in grouped_df:\n",
    "    avg_speed = group_data['speed'].astype(float).mean()\n",
    "    \n",
    "    energy = get_price(float(group_data['totalEnergyConsumed'].iloc[-1])-float(group_data['totalEnergyRegenerated'].iloc[-1]))\n",
    "    #print(float(group_data['totalEnergyConsumed'].iloc[-1])-float(group_data['totalEnergyRegenerated'].iloc[-1]))\n",
    "    \n",
    "    time_loss = b_tripinfo_output_pd.loc[b_tripinfo_output_pd['id'] == group_id, 'timeLoss'].values[0]\n",
    "    route_length = b_tripinfo_output_pd.loc[b_tripinfo_output_pd['id'] == group_id, 'routeLength'].values[0]\n",
    "    \n",
    "    route = vehicles_pd.loc[vehicles_pd['id'] == group_id, 'route'].values[0]\n",
    "    count_stops = stops_pd[stops_pd['id'] == route]['stops'].apply(len).sum()\n",
    "    \n",
    "    route_id = get_route_id(group_id, route_ids_df)\n",
    "    \n",
    "    z_up = calc_elevation_up(get_group_by_id(list_of_emission_dfs, group_id))\n",
    "    z_down = calc_elevation_down(get_group_by_id(list_of_emission_dfs, group_id))\n",
    "    \n",
    "    # Store the results in a dictionary\n",
    "    group_result = {\n",
    "        'routeid': route_id,\n",
    "        'id': group_id,\n",
    "        'avgSpeed': avg_speed,\n",
    "        'battery': energy,\n",
    "        'timeloss': time_loss,\n",
    "        'routeLength': route_length,\n",
    "        'numOfStops': count_stops,\n",
    "        'up': z_up,\n",
    "        'down': z_down\n",
    "    }\n",
    "    \n",
    "    # Append the dictionary to the results list\n",
    "    results.append(group_result)\n",
    "\n",
    "# Convert the results list to a DataFrame\n",
    "result_df = pd.DataFrame(results)\n",
    "#print(result_df)\n"
   ]
  },
  {
   "cell_type": "markdown",
   "metadata": {},
   "source": [
    "# CSV"
   ]
  },
  {
   "cell_type": "code",
   "execution_count": 120,
   "metadata": {},
   "outputs": [],
   "source": [
    "tableBattery = pd.read_csv('batteryData.csv', delimiter=';')\n",
    "\n",
    "#tableBattery.shape"
   ]
  },
  {
   "cell_type": "markdown",
   "metadata": {},
   "source": [
    "## settings"
   ]
  },
  {
   "cell_type": "code",
   "execution_count": 121,
   "metadata": {},
   "outputs": [],
   "source": [
    "locSetting = get_last_folder(base_folder)\n",
    "seedSetting = 'fgh'\n",
    "trafficScaleSetting = 'asd'"
   ]
  },
  {
   "cell_type": "markdown",
   "metadata": {},
   "source": [
    "## Df to csv"
   ]
  },
  {
   "cell_type": "code",
   "execution_count": 122,
   "metadata": {},
   "outputs": [],
   "source": [
    "for index, row in result_df.iterrows():\n",
    "    row_data = {\n",
    "        'routeId': row['routeid'],\n",
    "        'loc': locSetting,\n",
    "        'tripId': row['id'],\n",
    "        'seed': seedSetting,\n",
    "        'avgSpeed': row['avgSpeed'],\n",
    "        'timeloss': row['timeloss'],\n",
    "        'route_length': row['routeLength'],\n",
    "        'elevation_up': row['up'],\n",
    "        'elevation_down': row['down'],\n",
    "        'trafficScale': trafficScaleSetting,\n",
    "        'numOfStops': row['numOfStops'],\n",
    "        'emission': row['battery']\n",
    "    }\n",
    "    temp_df = pd.DataFrame([row_data])\n",
    "    #any empty or all-NA columns in tableBattery are excluded before concatenating the DataFrames\n",
    "    tableBattery = tableBattery.dropna(axis=1, how='all')\n",
    "\n",
    "    tableBattery = pd.concat([tableBattery, temp_df], ignore_index=True)\n"
   ]
  },
  {
   "cell_type": "markdown",
   "metadata": {},
   "source": [
    "'id': group_id,\n",
    "        'avgSpeed': avg_speed,\n",
    "        'batteryCapacity': energy,\n",
    "        'timeloss': time_loss,\n",
    "        'routeLength': route_length,\n",
    "        'stops': count_stops"
   ]
  },
  {
   "cell_type": "code",
   "execution_count": 123,
   "metadata": {},
   "outputs": [
    {
     "data": {
      "text/html": [
       "<div>\n",
       "<style scoped>\n",
       "    .dataframe tbody tr th:only-of-type {\n",
       "        vertical-align: middle;\n",
       "    }\n",
       "\n",
       "    .dataframe tbody tr th {\n",
       "        vertical-align: top;\n",
       "    }\n",
       "\n",
       "    .dataframe thead th {\n",
       "        text-align: right;\n",
       "    }\n",
       "</style>\n",
       "<table border=\"1\" class=\"dataframe\">\n",
       "  <thead>\n",
       "    <tr style=\"text-align: right;\">\n",
       "      <th></th>\n",
       "      <th>routeId</th>\n",
       "      <th>loc</th>\n",
       "      <th>tripId</th>\n",
       "      <th>seed</th>\n",
       "      <th>avgSpeed</th>\n",
       "      <th>timeloss</th>\n",
       "      <th>route_length</th>\n",
       "      <th>elevation_up</th>\n",
       "      <th>elevation_down</th>\n",
       "      <th>trafficScale</th>\n",
       "      <th>numOfStops</th>\n",
       "      <th>emission</th>\n",
       "    </tr>\n",
       "  </thead>\n",
       "  <tbody>\n",
       "    <tr>\n",
       "      <th>0</th>\n",
       "      <td>2400</td>\n",
       "      <td>nap_gellert_b</td>\n",
       "      <td>C6359838.0</td>\n",
       "      <td>1</td>\n",
       "      <td>1.013591</td>\n",
       "      <td>339.81</td>\n",
       "      <td>575.27</td>\n",
       "      <td>5.3400</td>\n",
       "      <td>-7.9300</td>\n",
       "      <td>0.3</td>\n",
       "      <td>2</td>\n",
       "      <td>69.618208</td>\n",
       "    </tr>\n",
       "    <tr>\n",
       "      <th>1</th>\n",
       "      <td>150</td>\n",
       "      <td>nap_gellert_b</td>\n",
       "      <td>C7246892.0</td>\n",
       "      <td>1</td>\n",
       "      <td>6.425740</td>\n",
       "      <td>33.46</td>\n",
       "      <td>660.1</td>\n",
       "      <td>2.3400</td>\n",
       "      <td>-2.3200</td>\n",
       "      <td>0.3</td>\n",
       "      <td>2</td>\n",
       "      <td>141.947410</td>\n",
       "    </tr>\n",
       "    <tr>\n",
       "      <th>2</th>\n",
       "      <td>270</td>\n",
       "      <td>nap_gellert_b</td>\n",
       "      <td>C734723628.0</td>\n",
       "      <td>1</td>\n",
       "      <td>5.872307</td>\n",
       "      <td>134.66</td>\n",
       "      <td>3647.97</td>\n",
       "      <td>105.6900</td>\n",
       "      <td>-68.5300</td>\n",
       "      <td>0.3</td>\n",
       "      <td>12</td>\n",
       "      <td>1252.215855</td>\n",
       "    </tr>\n",
       "    <tr>\n",
       "      <th>3</th>\n",
       "      <td>2120</td>\n",
       "      <td>nap_gellert_b</td>\n",
       "      <td>C745091034.0</td>\n",
       "      <td>1</td>\n",
       "      <td>3.558635</td>\n",
       "      <td>614.38</td>\n",
       "      <td>4075.61</td>\n",
       "      <td>22.7300</td>\n",
       "      <td>-79.8800</td>\n",
       "      <td>0.3</td>\n",
       "      <td>11</td>\n",
       "      <td>395.144354</td>\n",
       "    </tr>\n",
       "    <tr>\n",
       "      <th>4</th>\n",
       "      <td>2120</td>\n",
       "      <td>nap_gellert_b</td>\n",
       "      <td>C74509178.0</td>\n",
       "      <td>1</td>\n",
       "      <td>2.757995</td>\n",
       "      <td>1019.37</td>\n",
       "      <td>4018.91</td>\n",
       "      <td>80.8600</td>\n",
       "      <td>-24.3000</td>\n",
       "      <td>0.3</td>\n",
       "      <td>11</td>\n",
       "      <td>953.118991</td>\n",
       "    </tr>\n",
       "    <tr>\n",
       "      <th>...</th>\n",
       "      <td>...</td>\n",
       "      <td>...</td>\n",
       "      <td>...</td>\n",
       "      <td>...</td>\n",
       "      <td>...</td>\n",
       "      <td>...</td>\n",
       "      <td>...</td>\n",
       "      <td>...</td>\n",
       "      <td>...</td>\n",
       "      <td>...</td>\n",
       "      <td>...</td>\n",
       "      <td>...</td>\n",
       "    </tr>\n",
       "    <tr>\n",
       "      <th>1051</th>\n",
       "      <td>0050</td>\n",
       "      <td>nap_normafa_b</td>\n",
       "      <td>C78105129.0</td>\n",
       "      <td>fgh</td>\n",
       "      <td>3.472642</td>\n",
       "      <td>465.60</td>\n",
       "      <td>2667.11</td>\n",
       "      <td>14.1265</td>\n",
       "      <td>-34.5373</td>\n",
       "      <td>asd</td>\n",
       "      <td>8</td>\n",
       "      <td>463.788215</td>\n",
       "    </tr>\n",
       "    <tr>\n",
       "      <th>1052</th>\n",
       "      <td>0050</td>\n",
       "      <td>nap_normafa_b</td>\n",
       "      <td>C78105320.0</td>\n",
       "      <td>fgh</td>\n",
       "      <td>3.144238</td>\n",
       "      <td>542.33</td>\n",
       "      <td>2581.71</td>\n",
       "      <td>34.2404</td>\n",
       "      <td>-13.8806</td>\n",
       "      <td>asd</td>\n",
       "      <td>7</td>\n",
       "      <td>641.588970</td>\n",
       "    </tr>\n",
       "    <tr>\n",
       "      <th>1053</th>\n",
       "      <td>0050</td>\n",
       "      <td>nap_normafa_b</td>\n",
       "      <td>C78105332.0</td>\n",
       "      <td>fgh</td>\n",
       "      <td>3.493126</td>\n",
       "      <td>496.82</td>\n",
       "      <td>2581.71</td>\n",
       "      <td>33.9295</td>\n",
       "      <td>-13.5697</td>\n",
       "      <td>asd</td>\n",
       "      <td>7</td>\n",
       "      <td>691.294263</td>\n",
       "    </tr>\n",
       "    <tr>\n",
       "      <th>1054</th>\n",
       "      <td>0050</td>\n",
       "      <td>nap_normafa_b</td>\n",
       "      <td>C7810542.0</td>\n",
       "      <td>fgh</td>\n",
       "      <td>4.170306</td>\n",
       "      <td>324.09</td>\n",
       "      <td>2581.71</td>\n",
       "      <td>34.2162</td>\n",
       "      <td>-13.8564</td>\n",
       "      <td>asd</td>\n",
       "      <td>7</td>\n",
       "      <td>613.111653</td>\n",
       "    </tr>\n",
       "    <tr>\n",
       "      <th>1055</th>\n",
       "      <td>0050</td>\n",
       "      <td>nap_normafa_b</td>\n",
       "      <td>C78105443.0</td>\n",
       "      <td>fgh</td>\n",
       "      <td>3.704152</td>\n",
       "      <td>346.85</td>\n",
       "      <td>2667.11</td>\n",
       "      <td>14.4959</td>\n",
       "      <td>-34.9067</td>\n",
       "      <td>asd</td>\n",
       "      <td>8</td>\n",
       "      <td>354.986346</td>\n",
       "    </tr>\n",
       "  </tbody>\n",
       "</table>\n",
       "<p>1056 rows × 12 columns</p>\n",
       "</div>"
      ],
      "text/plain": [
       "     routeId            loc        tripId seed  avgSpeed timeloss  \\\n",
       "0       2400  nap_gellert_b    C6359838.0    1  1.013591   339.81   \n",
       "1        150  nap_gellert_b    C7246892.0    1  6.425740    33.46   \n",
       "2        270  nap_gellert_b  C734723628.0    1  5.872307   134.66   \n",
       "3       2120  nap_gellert_b  C745091034.0    1  3.558635   614.38   \n",
       "4       2120  nap_gellert_b   C74509178.0    1  2.757995  1019.37   \n",
       "...      ...            ...           ...  ...       ...      ...   \n",
       "1051    0050  nap_normafa_b   C78105129.0  fgh  3.472642   465.60   \n",
       "1052    0050  nap_normafa_b   C78105320.0  fgh  3.144238   542.33   \n",
       "1053    0050  nap_normafa_b   C78105332.0  fgh  3.493126   496.82   \n",
       "1054    0050  nap_normafa_b    C7810542.0  fgh  4.170306   324.09   \n",
       "1055    0050  nap_normafa_b   C78105443.0  fgh  3.704152   346.85   \n",
       "\n",
       "     route_length  elevation_up  elevation_down trafficScale  numOfStops  \\\n",
       "0          575.27        5.3400         -7.9300          0.3           2   \n",
       "1           660.1        2.3400         -2.3200          0.3           2   \n",
       "2         3647.97      105.6900        -68.5300          0.3          12   \n",
       "3         4075.61       22.7300        -79.8800          0.3          11   \n",
       "4         4018.91       80.8600        -24.3000          0.3          11   \n",
       "...           ...           ...             ...          ...         ...   \n",
       "1051      2667.11       14.1265        -34.5373          asd           8   \n",
       "1052      2581.71       34.2404        -13.8806          asd           7   \n",
       "1053      2581.71       33.9295        -13.5697          asd           7   \n",
       "1054      2581.71       34.2162        -13.8564          asd           7   \n",
       "1055      2667.11       14.4959        -34.9067          asd           8   \n",
       "\n",
       "         emission  \n",
       "0       69.618208  \n",
       "1      141.947410  \n",
       "2     1252.215855  \n",
       "3      395.144354  \n",
       "4      953.118991  \n",
       "...           ...  \n",
       "1051   463.788215  \n",
       "1052   641.588970  \n",
       "1053   691.294263  \n",
       "1054   613.111653  \n",
       "1055   354.986346  \n",
       "\n",
       "[1056 rows x 12 columns]"
      ]
     },
     "execution_count": 123,
     "metadata": {},
     "output_type": "execute_result"
    }
   ],
   "source": [
    "#tableBattery.to_csv('batteryData.csv', index=False, sep=';')\n",
    "tableBattery"
   ]
  },
  {
   "cell_type": "code",
   "execution_count": 124,
   "metadata": {},
   "outputs": [
    {
     "ename": "TypeError",
     "evalue": "unsupported operand type(s) for +: 'int' and 'str'",
     "output_type": "error",
     "traceback": [
      "\u001b[1;31m---------------------------------------------------------------------------\u001b[0m",
      "\u001b[1;31mTypeError\u001b[0m                                 Traceback (most recent call last)",
      "Cell \u001b[1;32mIn[124], line 2\u001b[0m\n\u001b[0;32m      1\u001b[0m \u001b[38;5;28;01mif\u001b[39;00m \u001b[38;5;18m__name__\u001b[39m \u001b[38;5;241m==\u001b[39m \u001b[38;5;124m\"\u001b[39m\u001b[38;5;124m__main__\u001b[39m\u001b[38;5;124m\"\u001b[39m:\n\u001b[1;32m----> 2\u001b[0m     \u001b[43mmain\u001b[49m\u001b[43m(\u001b[49m\u001b[43mseed\u001b[49m\u001b[43m \u001b[49m\u001b[38;5;241;43m=\u001b[39;49m\u001b[43m \u001b[49m\u001b[38;5;241;43m0\u001b[39;49m\u001b[43m,\u001b[49m\u001b[43m \u001b[49m\u001b[43mscale\u001b[49m\u001b[43m \u001b[49m\u001b[38;5;241;43m=\u001b[39;49m\u001b[43m \u001b[49m\u001b[38;5;241;43m0\u001b[39;49m\u001b[43m)\u001b[49m\n",
      "Cell \u001b[1;32mIn[108], line 2\u001b[0m, in \u001b[0;36mmain\u001b[1;34m(seed, scale)\u001b[0m\n\u001b[0;32m      1\u001b[0m \u001b[38;5;28;01mdef\u001b[39;00m \u001b[38;5;21mmain\u001b[39m(seed, scale):\n\u001b[1;32m----> 2\u001b[0m     \u001b[38;5;28mprint\u001b[39m(\u001b[43mseed\u001b[49m\u001b[43m \u001b[49m\u001b[38;5;241;43m+\u001b[39;49m\u001b[43m \u001b[49m\u001b[38;5;124;43m\"\u001b[39;49m\u001b[38;5;124;43m \u001b[39;49m\u001b[38;5;124;43m\"\u001b[39;49m \u001b[38;5;241m+\u001b[39m scale)\n",
      "\u001b[1;31mTypeError\u001b[0m: unsupported operand type(s) for +: 'int' and 'str'"
     ]
    }
   ],
   "source": [
    "if __name__ == \"__main__\":\n",
    "    main(seed = 0, scale = 0)"
   ]
  }
 ],
 "metadata": {
  "kernelspec": {
   "display_name": "Python 3",
   "language": "python",
   "name": "python3"
  },
  "language_info": {
   "codemirror_mode": {
    "name": "ipython",
    "version": 3
   },
   "file_extension": ".py",
   "mimetype": "text/x-python",
   "name": "python",
   "nbconvert_exporter": "python",
   "pygments_lexer": "ipython3",
   "version": "3.11.9"
  }
 },
 "nbformat": 4,
 "nbformat_minor": 2
}

{
 "cells": [
  {
   "cell_type": "code",
   "execution_count": 25,
   "metadata": {},
   "outputs": [],
   "source": [
    "import subprocess\n",
    "from nbconvert import PythonExporter\n",
    "import subprocess\n",
    "\n",
    "\n",
    "# Define the command to run the simulation\n",
    "simulation_command_base = \"sumo --c C:\\\\Users\\\\Admin\\\\Sumo\\\\{}\\\\osm.sumocfg --seed {} --scale {} --delay 0 --random-depart-offset {} --start\"\n",
    "\n",
    "python_command_base = \"python {} {} {} {} > {}\"\n",
    "\n",
    "# Define the range of seeds and traffic scales you want to iterate over\n",
    "seeds = range(1,2)  # Assuming seeds range from 1 to 10\n",
    "traffic_scales = [0.3]  # Assuming traffic scales 0.3, 0.5, 0.7\n",
    "offset = 100\n",
    "simulation_folder = \"nap_gellert_e\"\n",
    "python_filename = \"\"\n",
    "log_file_name = \"\"\n",
    "\n",
    "if(simulation_folder[-1] == \"b\"):\n",
    "    python_filename = \"battery.py\"\n",
    "    log_file_name = \"battery_log.txt\"\n",
    "    \n",
    "    \n",
    "elif(simulation_folder[-1] == \"e\"):\n",
    "    python_filename = \"emission.py\"\n",
    "    log_file_name = \"emission_log.txt\"\n",
    "    \n",
    "\n",
    "else:\n",
    "    raise ValueError(\"simulation folder ending incorrect\")\n",
    "\n",
    "log_file = open(log_file_name, \"w\")\n",
    "\n",
    "\n",
    "# Iterate over all combinations of seeds and traffic scales\n",
    "for seed in seeds:\n",
    "    for traffic_scale in traffic_scales:\n",
    "        # Construct the full simulation command with the current seed and traffic scale\n",
    "        simulation_command = simulation_command_base.format(simulation_folder ,seed, traffic_scale, offset)\n",
    "        #python_command = python_command_base.format(python_filename, seed, traffic_scale, str(simulation_folder), log_file_name)\n",
    "        #print(python_command)\n",
    "        # Run the simulation command\n",
    "        subprocess.run(simulation_command.split(), shell=True)\n",
    "        subprocess.run([\"python\", python_filename, str(seed), str(traffic_scale), str(simulation_folder)], stdout=log_file)\n",
    "\n",
    "# Close the log file\n",
    "log_file.close()\n"
   ]
  }
 ],
 "metadata": {
  "kernelspec": {
   "display_name": "Python 3",
   "language": "python",
   "name": "python3"
  },
  "language_info": {
   "codemirror_mode": {
    "name": "ipython",
    "version": 3
   },
   "file_extension": ".py",
   "mimetype": "text/x-python",
   "name": "python",
   "nbconvert_exporter": "python",
   "pygments_lexer": "ipython3",
   "version": "3.11.9"
  }
 },
 "nbformat": 4,
 "nbformat_minor": 2
}

{
 "cells": [
  {
   "cell_type": "code",
   "execution_count": 13,
   "metadata": {},
   "outputs": [],
   "source": [
    "import subprocess\n",
    "import sys\n",
    "\n",
    "# Define the command to run the simulation\n",
    "simulation_command_base = \"sumo --c C:\\\\Users\\\\Admin\\\\Sumo\\\\nap_gellert_b\\\\osm.sumocfg --seed {} --scale {} --delay 0 --start\"\n",
    "\n",
    "# Define the range of seeds and traffic scales you want to iterate over\n",
    "seeds = range(1,2)  # Assuming seeds range from 1 to 50\n",
    "traffic_scales = [0.3]  # Assuming traffic scales 0.3, 0.5, 0.7\n",
    "\n",
    "# Iterate over all combinations of seeds and traffic scales\n",
    "for seed in seeds:\n",
    "    for traffic_scale in traffic_scales:\n",
    "        # Construct the full simulation command with the current seed and traffic scale\n",
    "        simulation_command = simulation_command_base.format(seed, traffic_scale)\n",
    "        \n",
    "        # Run the simulation command\n",
    "        subprocess.run(simulation_command.split(), shell=True)\n",
    "        \n",
    "        subprocess.run([\"jupyter\", \"nbconvert\", \"--to\", \"notebook\", \"--execute\", \"battery.ipynb\", str(seed), str(traffic_scale)])\n",
    "\n",
    "        #jupyter nbconvert --to notebook --execute battery.ipynb\n",
    "        \n",
    "        # After running the simulation, run your Python script with seed and traffic scale parameters\n",
    "        #python_script_command = [\"python\", \"battery.py\"]\n",
    "        #subprocess.run(python_script_command)"
   ]
  }
 ],
 "metadata": {
  "kernelspec": {
   "display_name": "Python 3",
   "language": "python",
   "name": "python3"
  },
  "language_info": {
   "codemirror_mode": {
    "name": "ipython",
    "version": 3
   },
   "file_extension": ".py",
   "mimetype": "text/x-python",
   "name": "python",
   "nbconvert_exporter": "python",
   "pygments_lexer": "ipython3",
   "version": "3.11.9"
  }
 },
 "nbformat": 4,
 "nbformat_minor": 2
}
